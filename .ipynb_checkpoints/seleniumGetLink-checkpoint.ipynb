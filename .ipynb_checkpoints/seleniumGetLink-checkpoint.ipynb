{
 "cells": [
  {
   "cell_type": "code",
   "id": "initial_id",
   "metadata": {
    "collapsed": true,
    "jupyter": {
     "is_executing": true
    },
    "ExecuteTime": {
     "start_time": "2024-09-10T16:12:59.648430Z"
    }
   },
   "source": [
    "from docutils.nodes import topic\n",
    "from selenium import webdriver\n",
    "from selenium.webdriver.common.by import By\n",
    "\n",
    "chrome_options = webdriver.ChromeOptions()\n",
    "chrome_options.add_argument(\"--headless\")\n",
    "chrome_options.add_argument(\"--incognito\")\n",
    "chrome_options.add_argument(\"--no-sandbox\")\n",
    "chrome_options.add_argument(\"--disable-dev-shm-usage\")\n",
    "\n",
    "driver = webdriver.Chrome(options=chrome_options)\n",
    "\n",
    "# driver.get(\"https://www.ikea.com/th/th/cat/beds-bm003/?page=3\")"
   ],
   "outputs": [],
   "execution_count": null
  },
  {
   "metadata": {
    "ExecuteTime": {
     "end_time": "2024-09-10T12:01:02.107103Z",
     "start_time": "2024-09-10T12:01:02.059183Z"
    }
   },
   "cell_type": "code",
   "source": [
    "def getLink(url):\n",
    "    driver.get(url)\n",
    "    links = []\n",
    "    parent = driver.find_elements(By.CLASS_NAME, \"plp-fragment-wrapper\")\n",
    "    for i in parent:\n",
    "        root = ((i.find_element(By.CLASS_NAME, \"plp-mastercard \").\n",
    "                 find_element(By.TAG_NAME, \"a\")).\n",
    "                get_attribute(\"href\"))\n",
    "        links.append(root)\n",
    "\n",
    "    return links"
   ],
   "id": "6d929bbe78645831",
   "outputs": [],
   "execution_count": 2
  },
  {
   "metadata": {
    "ExecuteTime": {
     "end_time": "2024-09-10T12:04:56.397703Z",
     "start_time": "2024-09-10T12:04:53.486924Z"
    }
   },
   "cell_type": "code",
   "source": [
    "url = {\"เตียงนอนและเตียงเด็ก\":\"https://www.ikea.com/th/th/cat/beds-bm003/\"}\n",
    "LinkList = getLink(url.get('เตียงนอนและเตียงเด็ก'))\n",
    "print(len(LinkList))"
   ],
   "id": "48edb12172213ec9",
   "outputs": [
    {
     "name": "stdout",
     "output_type": "stream",
     "text": [
      "12\n"
     ]
    }
   ],
   "execution_count": 5
  },
  {
   "metadata": {
    "ExecuteTime": {
     "end_time": "2024-09-10T12:48:22.409393Z",
     "start_time": "2024-09-10T12:48:20.900277Z"
    }
   },
   "cell_type": "code",
   "source": [
    "urlProduct = LinkList[0]\n",
    "driver.get(urlProduct)\n",
    "# print(driver.page_source)\n",
    "topick = driver.find_element(By.XPATH, '//div[@class=\"js-price-package pip-price-package\"]')\n",
    "# a = topick.find_element(By.CLASS_NAME, \"plp-mastercard \")\n",
    "# b = a.find_element(By.TAG_NAME, \"a\")\n",
    "name = topick.text.split(\"\\n\")[0]\n",
    "size = topick.text.split(\"\\n\")[1]\n",
    "price = topick.text.split(\"\\n\")[2][:-3]\n",
    "\n",
    "print(size)\n"
   ],
   "id": "820e033305a8779",
   "outputs": [
    {
     "name": "stdout",
     "output_type": "stream",
     "text": [
      "โครงเตียง, ขาว, 150x200 ซม.\n"
     ]
    }
   ],
   "execution_count": 35
  },
  {
   "metadata": {},
   "cell_type": "code",
   "outputs": [],
   "execution_count": null,
   "source": "",
   "id": "22b9aaf6e6f9d0c4"
  }
 ],
 "metadata": {
  "kernelspec": {
   "display_name": "Python 3",
   "language": "python",
   "name": "python3"
  },
  "language_info": {
   "codemirror_mode": {
    "name": "ipython",
    "version": 2
   },
   "file_extension": ".py",
   "mimetype": "text/x-python",
   "name": "python",
   "nbconvert_exporter": "python",
   "pygments_lexer": "ipython2",
   "version": "2.7.6"
  }
 },
 "nbformat": 4,
 "nbformat_minor": 5
}
