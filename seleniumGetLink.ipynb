{
 "cells": [
  {
   "cell_type": "code",
   "id": "initial_id",
   "metadata": {
    "collapsed": true,
    "ExecuteTime": {
     "end_time": "2024-09-17T14:15:03.611629Z",
     "start_time": "2024-09-17T14:15:00.373818Z"
    }
   },
   "source": [
    "from os import times\n",
    "import time\n",
    "from pickletools import long1\n",
    "\n",
    "from docutils.nodes import title\n",
    "from selenium import webdriver\n",
    "from selenium.webdriver.common.by import By\n",
    "from selenium.webdriver.chrome.service import Service\n",
    "from selenium.webdriver.chrome.options import Options\n",
    "from selenium.webdriver.common.action_chains import ActionChains\n",
    "from selenium.webdriver.support.ui import WebDriverWait\n",
    "from setuptools.command.install import install\n",
    "from selenium.webdriver.common.keys import Keys\n",
    "from selenium.webdriver.support import expected_conditions as EC\n",
    "from trio import sleep\n",
    "import requests\n",
    "import base64\n",
    "import pandas as pd\n",
    "from urllib3 import request\n",
    "\n",
    "import json\n",
    "import os\n"
   ],
   "outputs": [],
   "execution_count": 1
  },
  {
   "metadata": {
    "ExecuteTime": {
     "end_time": "2024-09-17T15:23:01.855121Z",
     "start_time": "2024-09-17T15:23:01.840310Z"
    }
   },
   "cell_type": "code",
   "source": [
    "def openDriver():\n",
    "    chrome_options = Options()\n",
    "    chrome_options.add_argument(\"--headless\")\n",
    "    chrome_options.add_argument(\"--incognito\")\n",
    "    chrome_options.add_argument(\"--no-sandbox\")\n",
    "    chrome_options.add_argument(\"--disable-dev-shm-usage\")\n",
    "    DRIVER_PATH = \"chromedriver.exe\"\n",
    "    return webdriver.Chrome(options=chrome_options, service=Service(DRIVER_PATH))\n"
   ],
   "id": "4260dc7b2ea54cc",
   "outputs": [],
   "execution_count": 56
  },
  {
   "metadata": {
    "ExecuteTime": {
     "end_time": "2024-09-17T15:23:04.304797Z",
     "start_time": "2024-09-17T15:23:04.291897Z"
    }
   },
   "cell_type": "code",
   "source": [
    "def getLink(uri):\n",
    "    driver = openDriver()\n",
    "    driver.get(uri)\n",
    "    time.sleep(1)\n",
    "    \n",
    "    links = []\n",
    "    parent = driver.find_elements(By.CLASS_NAME, \"plp-fragment-wrapper\")\n",
    "    for index in parent:\n",
    "        root = ((index.find_element(By.CLASS_NAME, \"plp-mastercard \").\n",
    "                 find_element(By.TAG_NAME, \"a\")).\n",
    "                get_attribute(\"href\"))\n",
    "        links.append(root)\n",
    "        \n",
    "    driver.quit()\n",
    "    return links\n"
   ],
   "id": "6d929bbe78645831",
   "outputs": [],
   "execution_count": 57
  },
  {
   "metadata": {
    "ExecuteTime": {
     "end_time": "2024-09-17T15:23:09.710056Z",
     "start_time": "2024-09-17T15:23:09.683561Z"
    }
   },
   "cell_type": "code",
   "source": [
    "def saveDataToJSON(directory, filename, data):\n",
    "    os.makedirs(\"json/link/\" + directory, exist_ok=True)\n",
    "    try:\n",
    "        with open(f'json/link/{directory}/{filename}.json', 'r', encoding='utf-8') as FILE:\n",
    "            existingData = json.load(FILE)\n",
    "            \n",
    "    except FileNotFoundError:\n",
    "        existingData = []\n",
    "    \n",
    "    existingData.extend(data)\n",
    "    with open(f'json/link/{directory}/{filename}.json', 'w', encoding='utf-8') as FILE:\n",
    "        json.dump(existingData, FILE, ensure_ascii=False, indent=4)\n",
    "        "
   ],
   "id": "54b6161002a43a4e",
   "outputs": [],
   "execution_count": 58
  },
  {
   "metadata": {},
   "cell_type": "code",
   "source": [
    "# for i in range(12,14):\n",
    "#     url = {\n",
    "#         \"furniture sets\":\n",
    "#                f\"https://www.ikea.com/th/th/cat/furniture-sets-55036/?page={i}\"\n",
    "#     }\n",
    "#     LinkList = getLink(url.get('furniture sets'))\n",
    "#     saveDataToJSON(\"furniture sets\",\"FurnitureSetsLink\",LinkList)\n",
    "#     print(\"page = \",i)\n",
    "#     "
   ],
   "id": "ac7fef9c67edfbfe",
   "outputs": [],
   "execution_count": null
  },
  {
   "metadata": {
    "ExecuteTime": {
     "end_time": "2024-09-17T15:23:12.563684Z",
     "start_time": "2024-09-17T15:23:12.553314Z"
    }
   },
   "cell_type": "code",
   "source": [
    "def getLinkProduct(n, nameCat, urlCat):\n",
    "    for i in range(1, n):\n",
    "        uri = {\n",
    "            nameCat:\n",
    "                f\"{urlCat}?page={i}\"\n",
    "        }\n",
    "        linkList = getLink(uri.get(nameCat))\n",
    "        saveDataToJSON(nameCat, f\"{nameCat}Link\", linkList)\n",
    "        print(\"page = \", i)"
   ],
   "id": "2a7726660d1a2dd2",
   "outputs": [],
   "execution_count": 59
  },
  {
   "metadata": {
    "ExecuteTime": {
     "end_time": "2024-09-17T15:23:22.371099Z",
     "start_time": "2024-09-17T15:23:22.360681Z"
    }
   },
   "cell_type": "code",
   "source": [
    "def getDetailProduct(urlCat):\n",
    "    driver = openDriver()\n",
    "    driver.get(urlCat)\n",
    "    \n",
    "    allDetail = driver.find_element(By.XPATH, '//div[@class=\"js-price-package pip-price-package\"]')\n",
    "    brandName = allDetail.text.split(\"\\n\")[0]\n",
    "    detail = allDetail.text.split(\"\\n\")[1].split(\", \")\n",
    "    productName = detail[0]\n",
    "    try:\n",
    "        color = detail[1]\n",
    "    except:\n",
    "        color = None\n",
    "    try:\n",
    "        size = detail[2]\n",
    "    except:\n",
    "        size = None\n",
    "    price = allDetail.text.split(\"\\n\")[2][:-3]\n",
    "    \n",
    "    driver.quit()\n",
    "    return brandName, productName,color, size, price"
   ],
   "id": "be969c8e0d2d89f",
   "outputs": [],
   "execution_count": 60
  },
  {
   "metadata": {},
   "cell_type": "markdown",
   "source": "###กดปุ่ม เพื่อรับข้อมูล",
   "id": "2c5eba16386252c3"
  },
  {
   "metadata": {
    "ExecuteTime": {
     "end_time": "2024-09-17T15:23:27.945534Z",
     "start_time": "2024-09-17T15:23:27.923289Z"
    }
   },
   "cell_type": "code",
   "source": [
    "def getDescFromProduct(uri):\n",
    "    browser = openDriver()\n",
    "    browser.get(uri)\n",
    "    try:\n",
    "        button = browser.find_element(By.CLASS_NAME, \"pip-list-view-item__action\")\n",
    "        browser.execute_script(\"arguments[0].click();\", button)\n",
    "        \n",
    "        paragraphs = browser.find_elements(By.CLASS_NAME, 'pip-product-details__paragraph')\n",
    "        codeProduct = (browser.find_element(By.CLASS_NAME, 'pip-product-identifier__value').\n",
    "                       get_attribute(\"innerText\"))\n",
    "        \n",
    "        stringDesc = \"\"\n",
    "        for paragraph in paragraphs:\n",
    "            stringDesc += paragraph.get_attribute(\"innerText\")+\"\\n\\n\"\n",
    "\n",
    "        browser.quit()\n",
    "        return stringDesc , codeProduct\n",
    "        \n",
    "    except Exception as e:\n",
    "        print(f\"เกิดข้อผิดพลาด: {e}\")\n",
    "        browser.quit()"
   ],
   "id": "21eb1448d97af929",
   "outputs": [],
   "execution_count": 61
  },
  {
   "metadata": {},
   "cell_type": "markdown",
   "source": "------------------------",
   "id": "5b5d32590110ec77"
  },
  {
   "metadata": {
    "ExecuteTime": {
     "end_time": "2024-09-17T15:23:31.321319Z",
     "start_time": "2024-09-17T15:23:31.301183Z"
    }
   },
   "cell_type": "code",
   "source": [
    "# Download Image for Product\n",
    "def saveImage(uri, dirName, fileName):\n",
    "    response = requests.get(uri)\n",
    "    \n",
    "    if response.status_code == 200:\n",
    "        os.makedirs(\"image/room/\"+dirName, exist_ok=True)\n",
    "        with open(f\"image/room/{dirName}/{fileName}_image.jpg\", \"wb\") as file:\n",
    "            file.write(response.content)\n",
    "    else:\n",
    "        print(\"เกิดข้อผิดพลาดในการดาวน์โหลดภาพ:\", response.status_code)\n"
   ],
   "id": "8f767d1b622552df",
   "outputs": [],
   "execution_count": 62
  },
  {
   "metadata": {
    "ExecuteTime": {
     "end_time": "2024-09-17T15:23:34.234733Z",
     "start_time": "2024-09-17T15:23:34.228366Z"
    }
   },
   "cell_type": "code",
   "source": [
    "def kernelImage(dirName, fileName):\n",
    "    with open(f\"image/room/{dirName}/{fileName}_image.jpg\", \"rb\") as png_file:\n",
    "        # อ่านไฟล์ PNG\n",
    "        png_data = png_file.read()\n",
    "        # แปลงข้อมูลไฟล์ PNG เป็น Base64\n",
    "        base64_encoded_data = base64.b64encode(png_data)\n",
    "        # แปลง Base64 เป็น string เพื่อใช้งาน\n",
    "        base64_string = base64_encoded_data.decode('utf-8')\n",
    "        \n",
    "    return base64_string\n",
    "    \n",
    "    "
   ],
   "id": "4dad42363b9414a0",
   "outputs": [],
   "execution_count": 63
  },
  {
   "metadata": {
    "ExecuteTime": {
     "end_time": "2024-09-17T15:23:37.026368Z",
     "start_time": "2024-09-17T15:23:37.006670Z"
    }
   },
   "cell_type": "code",
   "source": [
    "def getImage(uri, dirName, fileName):\n",
    "    driver = openDriver()\n",
    "    driver.get(uri)\n",
    "    findElement = driver.find_element(By.XPATH, \"//div[@class='pip-zoom-image']\")\n",
    "    img_element = findElement.find_element(By.TAG_NAME, \"img\")\n",
    "    srcset = img_element.get_attribute(\"srcset\")\n",
    "    \n",
    "    first_link = srcset.split(\",\")[0].strip().split(\" \")[0]\n",
    "    \n",
    "    driver.quit()\n",
    "    saveImage(first_link, dirName, fileName)\n",
    "    return kernelImage(dirName, fileName)\n",
    "    "
   ],
   "id": "661ea2d33e7f5903",
   "outputs": [],
   "execution_count": 64
  },
  {
   "metadata": {},
   "cell_type": "code",
   "source": [
    "# def readJson(pathname, filename):\n",
    "#     data = pd.read_json(\"json/link/\"+pathname+\"/\"+filename)\n",
    "#     return data"
   ],
   "id": "478186f540639a62",
   "outputs": [],
   "execution_count": 11
  },
  {
   "metadata": {
    "ExecuteTime": {
     "end_time": "2024-09-17T15:23:39.721764Z",
     "start_time": "2024-09-17T15:23:39.710993Z"
    }
   },
   "cell_type": "code",
   "source": [
    "def readJson(pathname, filename):\n",
    "    data = pd.read_json(\"json/product/\"+pathname+\"/\"+filename)\n",
    "    return data"
   ],
   "id": "90665571a1b682a7",
   "outputs": [],
   "execution_count": 65
  },
  {
   "metadata": {
    "ExecuteTime": {
     "end_time": "2024-09-17T14:40:46.313704Z",
     "start_time": "2024-09-17T14:40:46.150874Z"
    }
   },
   "cell_type": "code",
   "source": "df = readJson(\"Beds\",\"Beds_datas.json\")",
   "id": "8716800b5ef01ff9",
   "outputs": [],
   "execution_count": 27
  },
  {
   "metadata": {
    "ExecuteTime": {
     "end_time": "2024-09-17T14:40:47.610695Z",
     "start_time": "2024-09-17T14:40:47.589010Z"
    }
   },
   "cell_type": "code",
   "source": "df = pd.json_normalize(df['Beds'])",
   "id": "859f0c0dcea4d992",
   "outputs": [],
   "execution_count": 28
  },
  {
   "metadata": {
    "ExecuteTime": {
     "end_time": "2024-09-17T14:40:49.318130Z",
     "start_time": "2024-09-17T14:40:49.299394Z"
    }
   },
   "cell_type": "code",
   "source": "df.drop(columns=\"imgBase64\", inplace=True)",
   "id": "4a4f1aa0165310ad",
   "outputs": [],
   "execution_count": 29
  },
  {
   "metadata": {},
   "cell_type": "code",
   "source": "df = df[df['brandName'] != 'ใหม่'].reset_index(drop=True)\n",
   "id": "35e48faa43d2b0f7",
   "outputs": [],
   "execution_count": null
  },
  {
   "metadata": {},
   "cell_type": "code",
   "source": [
    "\n",
    "pattern = r'\\d{1,4}x\\d{1,4}\\s?ซม\\.?'\n",
    "\n",
    "# ย้ายค่าที่ตรงกับ pattern จาก 'color' ไปยัง 'size'\n",
    "df.loc[df['size'].isna() & df['color'].str.contains(pattern, na=False), 'size'] = df['color'].str.extract(f'({pattern})').iloc[:, 0]\n",
    "\n",
    "# ลบค่าขนาดจากคอลัมน์ 'color'\n",
    "df['color'] = df['color'].str.replace(pattern, 'None', regex=True).str.strip()\n",
    "df['color']"
   ],
   "id": "d862c006da65d32d",
   "outputs": [],
   "execution_count": null
  },
  {
   "metadata": {
    "ExecuteTime": {
     "end_time": "2024-09-16T13:20:07.975027Z",
     "start_time": "2024-09-16T13:20:07.957626Z"
    }
   },
   "cell_type": "code",
   "source": [
    "# def saveProductDataToJson(dirName, fileName):\n",
    "#     links = readJson(dirName, fileName)\n",
    "#     datas = []\n",
    "#     \n",
    "#     try:\n",
    "#         for i in links[0]:\n",
    "#             brandName, productName,color, size, price = getDetailProduct(i)\n",
    "#             stringDesc , codeProduct = getDescFromProduct(i)\n",
    "#             imgBase64 = getImage(i, dirName, codeProduct)\n",
    "#     \n",
    "#             datas.append({\n",
    "#                 \"Code\":codeProduct,\n",
    "#                 \"brandName\":brandName,\n",
    "#                 \"productName\":productName,\n",
    "#                 \"color\":color,\n",
    "#                 \"size\":size,\n",
    "#                 \"price\":price,\n",
    "#                 \"imgBase64\":imgBase64,\n",
    "#                 \"desc\":stringDesc\n",
    "#             })\n",
    "#             \n",
    "#         datas = {dirName:datas}\n",
    "#         os.makedirs(\"json/product/\" + dirName, exist_ok=True)\n",
    "#         try:\n",
    "#             with open(f'json/product/{dirName}/{dirName}_datas.json', 'w', encoding='utf-8') as FILE:\n",
    "#                 json.dump(datas, FILE, ensure_ascii=False, indent=4)\n",
    "#         except FileNotFoundError:\n",
    "#             print(\" Can not save data\")\n",
    "#             \n",
    "#     except Exception as e:\n",
    "#         print(e)"
   ],
   "id": "8444468fa5676cc9",
   "outputs": [],
   "execution_count": 14
  },
  {
   "metadata": {
    "ExecuteTime": {
     "end_time": "2024-09-16T15:49:46.561404Z",
     "start_time": "2024-09-16T15:19:00.298672Z"
    }
   },
   "cell_type": "code",
   "source": "# saveProductDataToJson(\"dishwashing-accessories\", \"dishwashing-accessoriesLink.json\")",
   "id": "889129d2d42bd430",
   "outputs": [],
   "execution_count": 20
  },
  {
   "metadata": {},
   "cell_type": "markdown",
   "source": "1h 54m : 206 item",
   "id": "7f18a7c4f64a8e7"
  },
  {
   "metadata": {
    "ExecuteTime": {
     "end_time": "2024-09-17T14:25:01.256821Z",
     "start_time": "2024-09-17T14:25:01.221394Z"
    }
   },
   "cell_type": "code",
   "source": [
    "with open(\"json/link/baskets/basketsLink.json\", 'r', encoding='utf-8') as f:\n",
    "    data = json.load(f)\n",
    "\n",
    "df = pd.DataFrame(data)\n",
    "df"
   ],
   "id": "c68a71de05c86d78",
   "outputs": [
    {
     "data": {
      "text/plain": [
       "                                                    0\n",
       "0   https://www.ikea.com/th/th/p/branaes-basket-wh...\n",
       "1   https://www.ikea.com/th/th/p/tjillevips-basket...\n",
       "2   https://www.ikea.com/th/th/p/fladis-basket-sea...\n",
       "3   https://www.ikea.com/th/th/p/bekna-basket-plas...\n",
       "4   https://www.ikea.com/th/th/p/gnabbas-basket-40...\n",
       "5   https://www.ikea.com/th/th/p/knipsa-basket-sea...\n",
       "6   https://www.ikea.com/th/th/p/maevinn-basket-80...\n",
       "7   https://www.ikea.com/th/th/p/bullig-box-bamboo...\n",
       "8   https://www.ikea.com/th/th/p/lustigkurre-baske...\n",
       "9   https://www.ikea.com/th/th/p/tolkning-basket-h...\n",
       "10  https://www.ikea.com/th/th/p/vaexthus-basket-b...\n",
       "11  https://www.ikea.com/th/th/p/maevinn-basket-st...\n",
       "12  https://www.ikea.com/th/th/p/risatorp-basket-w...\n",
       "13  https://www.ikea.com/th/th/p/vaexthus-basket-r...\n",
       "14  https://www.ikea.com/th/th/p/snidad-basket-rat...\n",
       "15  https://www.ikea.com/th/th/p/djurtraenare-bask...\n",
       "16  https://www.ikea.com/th/th/p/tjabbig-basket-na...\n",
       "17  https://www.ikea.com/th/th/p/risatorp-basket-w...\n",
       "18  https://www.ikea.com/th/th/p/ljungan-basket-wi...\n",
       "19  https://www.ikea.com/th/th/p/mjoelkkanna-baske...\n",
       "20  https://www.ikea.com/th/th/p/maevinn-basket-bl...\n",
       "21  https://www.ikea.com/th/th/p/hoestagille-baske...\n",
       "22  https://www.ikea.com/th/th/p/risatorp-basket-w...\n",
       "23  https://www.ikea.com/th/th/p/djurtraenare-bask...\n",
       "24  https://www.ikea.com/th/th/p/smarra-box-with-l...\n",
       "25  https://www.ikea.com/th/th/p/fryken-box-with-l...\n",
       "26  https://www.ikea.com/th/th/p/vaexthus-basket-p...\n",
       "27  https://www.ikea.com/th/th/p/tolkning-hanging-...\n",
       "28  https://www.ikea.com/th/th/p/djurtraenare-bask...\n",
       "29  https://www.ikea.com/th/th/p/tolkning-basket-h...\n",
       "30  https://www.ikea.com/th/th/p/tjabbig-basket-na...\n",
       "31  https://www.ikea.com/th/th/p/ljungan-basket-10...\n",
       "32  https://www.ikea.com/th/th/p/risatorp-basket-w...\n",
       "33  https://www.ikea.com/th/th/p/krallig-basket-se...\n",
       "34  https://www.ikea.com/th/th/p/jaegmaestare-bask...\n",
       "35  https://www.ikea.com/th/th/p/pudda-basket-1034...\n",
       "36  https://www.ikea.com/th/th/p/jaegmaestare-bask...\n",
       "37  https://www.ikea.com/th/th/p/purrpingla-storag...\n",
       "38  https://www.ikea.com/th/th/p/trummis-basket-ha...\n",
       "39  https://www.ikea.com/th/th/p/risatorp-basket-d...\n",
       "40  https://www.ikea.com/th/th/p/risatorp-basket-d...\n",
       "41  https://www.ikea.com/th/th/p/risatorp-basket-l...\n",
       "42  https://www.ikea.com/th/th/p/branaes-basket-ra...\n",
       "43  https://www.ikea.com/th/th/p/risatorp-basket-g..."
      ],
      "text/html": [
       "<div>\n",
       "<style scoped>\n",
       "    .dataframe tbody tr th:only-of-type {\n",
       "        vertical-align: middle;\n",
       "    }\n",
       "\n",
       "    .dataframe tbody tr th {\n",
       "        vertical-align: top;\n",
       "    }\n",
       "\n",
       "    .dataframe thead th {\n",
       "        text-align: right;\n",
       "    }\n",
       "</style>\n",
       "<table border=\"1\" class=\"dataframe\">\n",
       "  <thead>\n",
       "    <tr style=\"text-align: right;\">\n",
       "      <th></th>\n",
       "      <th>0</th>\n",
       "    </tr>\n",
       "  </thead>\n",
       "  <tbody>\n",
       "    <tr>\n",
       "      <th>0</th>\n",
       "      <td>https://www.ikea.com/th/th/p/branaes-basket-wh...</td>\n",
       "    </tr>\n",
       "    <tr>\n",
       "      <th>1</th>\n",
       "      <td>https://www.ikea.com/th/th/p/tjillevips-basket...</td>\n",
       "    </tr>\n",
       "    <tr>\n",
       "      <th>2</th>\n",
       "      <td>https://www.ikea.com/th/th/p/fladis-basket-sea...</td>\n",
       "    </tr>\n",
       "    <tr>\n",
       "      <th>3</th>\n",
       "      <td>https://www.ikea.com/th/th/p/bekna-basket-plas...</td>\n",
       "    </tr>\n",
       "    <tr>\n",
       "      <th>4</th>\n",
       "      <td>https://www.ikea.com/th/th/p/gnabbas-basket-40...</td>\n",
       "    </tr>\n",
       "    <tr>\n",
       "      <th>5</th>\n",
       "      <td>https://www.ikea.com/th/th/p/knipsa-basket-sea...</td>\n",
       "    </tr>\n",
       "    <tr>\n",
       "      <th>6</th>\n",
       "      <td>https://www.ikea.com/th/th/p/maevinn-basket-80...</td>\n",
       "    </tr>\n",
       "    <tr>\n",
       "      <th>7</th>\n",
       "      <td>https://www.ikea.com/th/th/p/bullig-box-bamboo...</td>\n",
       "    </tr>\n",
       "    <tr>\n",
       "      <th>8</th>\n",
       "      <td>https://www.ikea.com/th/th/p/lustigkurre-baske...</td>\n",
       "    </tr>\n",
       "    <tr>\n",
       "      <th>9</th>\n",
       "      <td>https://www.ikea.com/th/th/p/tolkning-basket-h...</td>\n",
       "    </tr>\n",
       "    <tr>\n",
       "      <th>10</th>\n",
       "      <td>https://www.ikea.com/th/th/p/vaexthus-basket-b...</td>\n",
       "    </tr>\n",
       "    <tr>\n",
       "      <th>11</th>\n",
       "      <td>https://www.ikea.com/th/th/p/maevinn-basket-st...</td>\n",
       "    </tr>\n",
       "    <tr>\n",
       "      <th>12</th>\n",
       "      <td>https://www.ikea.com/th/th/p/risatorp-basket-w...</td>\n",
       "    </tr>\n",
       "    <tr>\n",
       "      <th>13</th>\n",
       "      <td>https://www.ikea.com/th/th/p/vaexthus-basket-r...</td>\n",
       "    </tr>\n",
       "    <tr>\n",
       "      <th>14</th>\n",
       "      <td>https://www.ikea.com/th/th/p/snidad-basket-rat...</td>\n",
       "    </tr>\n",
       "    <tr>\n",
       "      <th>15</th>\n",
       "      <td>https://www.ikea.com/th/th/p/djurtraenare-bask...</td>\n",
       "    </tr>\n",
       "    <tr>\n",
       "      <th>16</th>\n",
       "      <td>https://www.ikea.com/th/th/p/tjabbig-basket-na...</td>\n",
       "    </tr>\n",
       "    <tr>\n",
       "      <th>17</th>\n",
       "      <td>https://www.ikea.com/th/th/p/risatorp-basket-w...</td>\n",
       "    </tr>\n",
       "    <tr>\n",
       "      <th>18</th>\n",
       "      <td>https://www.ikea.com/th/th/p/ljungan-basket-wi...</td>\n",
       "    </tr>\n",
       "    <tr>\n",
       "      <th>19</th>\n",
       "      <td>https://www.ikea.com/th/th/p/mjoelkkanna-baske...</td>\n",
       "    </tr>\n",
       "    <tr>\n",
       "      <th>20</th>\n",
       "      <td>https://www.ikea.com/th/th/p/maevinn-basket-bl...</td>\n",
       "    </tr>\n",
       "    <tr>\n",
       "      <th>21</th>\n",
       "      <td>https://www.ikea.com/th/th/p/hoestagille-baske...</td>\n",
       "    </tr>\n",
       "    <tr>\n",
       "      <th>22</th>\n",
       "      <td>https://www.ikea.com/th/th/p/risatorp-basket-w...</td>\n",
       "    </tr>\n",
       "    <tr>\n",
       "      <th>23</th>\n",
       "      <td>https://www.ikea.com/th/th/p/djurtraenare-bask...</td>\n",
       "    </tr>\n",
       "    <tr>\n",
       "      <th>24</th>\n",
       "      <td>https://www.ikea.com/th/th/p/smarra-box-with-l...</td>\n",
       "    </tr>\n",
       "    <tr>\n",
       "      <th>25</th>\n",
       "      <td>https://www.ikea.com/th/th/p/fryken-box-with-l...</td>\n",
       "    </tr>\n",
       "    <tr>\n",
       "      <th>26</th>\n",
       "      <td>https://www.ikea.com/th/th/p/vaexthus-basket-p...</td>\n",
       "    </tr>\n",
       "    <tr>\n",
       "      <th>27</th>\n",
       "      <td>https://www.ikea.com/th/th/p/tolkning-hanging-...</td>\n",
       "    </tr>\n",
       "    <tr>\n",
       "      <th>28</th>\n",
       "      <td>https://www.ikea.com/th/th/p/djurtraenare-bask...</td>\n",
       "    </tr>\n",
       "    <tr>\n",
       "      <th>29</th>\n",
       "      <td>https://www.ikea.com/th/th/p/tolkning-basket-h...</td>\n",
       "    </tr>\n",
       "    <tr>\n",
       "      <th>30</th>\n",
       "      <td>https://www.ikea.com/th/th/p/tjabbig-basket-na...</td>\n",
       "    </tr>\n",
       "    <tr>\n",
       "      <th>31</th>\n",
       "      <td>https://www.ikea.com/th/th/p/ljungan-basket-10...</td>\n",
       "    </tr>\n",
       "    <tr>\n",
       "      <th>32</th>\n",
       "      <td>https://www.ikea.com/th/th/p/risatorp-basket-w...</td>\n",
       "    </tr>\n",
       "    <tr>\n",
       "      <th>33</th>\n",
       "      <td>https://www.ikea.com/th/th/p/krallig-basket-se...</td>\n",
       "    </tr>\n",
       "    <tr>\n",
       "      <th>34</th>\n",
       "      <td>https://www.ikea.com/th/th/p/jaegmaestare-bask...</td>\n",
       "    </tr>\n",
       "    <tr>\n",
       "      <th>35</th>\n",
       "      <td>https://www.ikea.com/th/th/p/pudda-basket-1034...</td>\n",
       "    </tr>\n",
       "    <tr>\n",
       "      <th>36</th>\n",
       "      <td>https://www.ikea.com/th/th/p/jaegmaestare-bask...</td>\n",
       "    </tr>\n",
       "    <tr>\n",
       "      <th>37</th>\n",
       "      <td>https://www.ikea.com/th/th/p/purrpingla-storag...</td>\n",
       "    </tr>\n",
       "    <tr>\n",
       "      <th>38</th>\n",
       "      <td>https://www.ikea.com/th/th/p/trummis-basket-ha...</td>\n",
       "    </tr>\n",
       "    <tr>\n",
       "      <th>39</th>\n",
       "      <td>https://www.ikea.com/th/th/p/risatorp-basket-d...</td>\n",
       "    </tr>\n",
       "    <tr>\n",
       "      <th>40</th>\n",
       "      <td>https://www.ikea.com/th/th/p/risatorp-basket-d...</td>\n",
       "    </tr>\n",
       "    <tr>\n",
       "      <th>41</th>\n",
       "      <td>https://www.ikea.com/th/th/p/risatorp-basket-l...</td>\n",
       "    </tr>\n",
       "    <tr>\n",
       "      <th>42</th>\n",
       "      <td>https://www.ikea.com/th/th/p/branaes-basket-ra...</td>\n",
       "    </tr>\n",
       "    <tr>\n",
       "      <th>43</th>\n",
       "      <td>https://www.ikea.com/th/th/p/risatorp-basket-g...</td>\n",
       "    </tr>\n",
       "  </tbody>\n",
       "</table>\n",
       "</div>"
      ]
     },
     "execution_count": 18,
     "metadata": {},
     "output_type": "execute_result"
    }
   ],
   "execution_count": 18
  },
  {
   "metadata": {
    "ExecuteTime": {
     "end_time": "2024-09-17T14:25:09.453981Z",
     "start_time": "2024-09-17T14:25:09.435859Z"
    }
   },
   "cell_type": "code",
   "source": [
    "df.columns = ['link']\n",
    "df"
   ],
   "id": "f27985287e465963",
   "outputs": [
    {
     "data": {
      "text/plain": [
       "                                                 link\n",
       "0   https://www.ikea.com/th/th/p/branaes-basket-wh...\n",
       "1   https://www.ikea.com/th/th/p/tjillevips-basket...\n",
       "2   https://www.ikea.com/th/th/p/fladis-basket-sea...\n",
       "3   https://www.ikea.com/th/th/p/bekna-basket-plas...\n",
       "4   https://www.ikea.com/th/th/p/gnabbas-basket-40...\n",
       "5   https://www.ikea.com/th/th/p/knipsa-basket-sea...\n",
       "6   https://www.ikea.com/th/th/p/maevinn-basket-80...\n",
       "7   https://www.ikea.com/th/th/p/bullig-box-bamboo...\n",
       "8   https://www.ikea.com/th/th/p/lustigkurre-baske...\n",
       "9   https://www.ikea.com/th/th/p/tolkning-basket-h...\n",
       "10  https://www.ikea.com/th/th/p/vaexthus-basket-b...\n",
       "11  https://www.ikea.com/th/th/p/maevinn-basket-st...\n",
       "12  https://www.ikea.com/th/th/p/risatorp-basket-w...\n",
       "13  https://www.ikea.com/th/th/p/vaexthus-basket-r...\n",
       "14  https://www.ikea.com/th/th/p/snidad-basket-rat...\n",
       "15  https://www.ikea.com/th/th/p/djurtraenare-bask...\n",
       "16  https://www.ikea.com/th/th/p/tjabbig-basket-na...\n",
       "17  https://www.ikea.com/th/th/p/risatorp-basket-w...\n",
       "18  https://www.ikea.com/th/th/p/ljungan-basket-wi...\n",
       "19  https://www.ikea.com/th/th/p/mjoelkkanna-baske...\n",
       "20  https://www.ikea.com/th/th/p/maevinn-basket-bl...\n",
       "21  https://www.ikea.com/th/th/p/hoestagille-baske...\n",
       "22  https://www.ikea.com/th/th/p/risatorp-basket-w...\n",
       "23  https://www.ikea.com/th/th/p/djurtraenare-bask...\n",
       "24  https://www.ikea.com/th/th/p/smarra-box-with-l...\n",
       "25  https://www.ikea.com/th/th/p/fryken-box-with-l...\n",
       "26  https://www.ikea.com/th/th/p/vaexthus-basket-p...\n",
       "27  https://www.ikea.com/th/th/p/tolkning-hanging-...\n",
       "28  https://www.ikea.com/th/th/p/djurtraenare-bask...\n",
       "29  https://www.ikea.com/th/th/p/tolkning-basket-h...\n",
       "30  https://www.ikea.com/th/th/p/tjabbig-basket-na...\n",
       "31  https://www.ikea.com/th/th/p/ljungan-basket-10...\n",
       "32  https://www.ikea.com/th/th/p/risatorp-basket-w...\n",
       "33  https://www.ikea.com/th/th/p/krallig-basket-se...\n",
       "34  https://www.ikea.com/th/th/p/jaegmaestare-bask...\n",
       "35  https://www.ikea.com/th/th/p/pudda-basket-1034...\n",
       "36  https://www.ikea.com/th/th/p/jaegmaestare-bask...\n",
       "37  https://www.ikea.com/th/th/p/purrpingla-storag...\n",
       "38  https://www.ikea.com/th/th/p/trummis-basket-ha...\n",
       "39  https://www.ikea.com/th/th/p/risatorp-basket-d...\n",
       "40  https://www.ikea.com/th/th/p/risatorp-basket-d...\n",
       "41  https://www.ikea.com/th/th/p/risatorp-basket-l...\n",
       "42  https://www.ikea.com/th/th/p/branaes-basket-ra...\n",
       "43  https://www.ikea.com/th/th/p/risatorp-basket-g..."
      ],
      "text/html": [
       "<div>\n",
       "<style scoped>\n",
       "    .dataframe tbody tr th:only-of-type {\n",
       "        vertical-align: middle;\n",
       "    }\n",
       "\n",
       "    .dataframe tbody tr th {\n",
       "        vertical-align: top;\n",
       "    }\n",
       "\n",
       "    .dataframe thead th {\n",
       "        text-align: right;\n",
       "    }\n",
       "</style>\n",
       "<table border=\"1\" class=\"dataframe\">\n",
       "  <thead>\n",
       "    <tr style=\"text-align: right;\">\n",
       "      <th></th>\n",
       "      <th>link</th>\n",
       "    </tr>\n",
       "  </thead>\n",
       "  <tbody>\n",
       "    <tr>\n",
       "      <th>0</th>\n",
       "      <td>https://www.ikea.com/th/th/p/branaes-basket-wh...</td>\n",
       "    </tr>\n",
       "    <tr>\n",
       "      <th>1</th>\n",
       "      <td>https://www.ikea.com/th/th/p/tjillevips-basket...</td>\n",
       "    </tr>\n",
       "    <tr>\n",
       "      <th>2</th>\n",
       "      <td>https://www.ikea.com/th/th/p/fladis-basket-sea...</td>\n",
       "    </tr>\n",
       "    <tr>\n",
       "      <th>3</th>\n",
       "      <td>https://www.ikea.com/th/th/p/bekna-basket-plas...</td>\n",
       "    </tr>\n",
       "    <tr>\n",
       "      <th>4</th>\n",
       "      <td>https://www.ikea.com/th/th/p/gnabbas-basket-40...</td>\n",
       "    </tr>\n",
       "    <tr>\n",
       "      <th>5</th>\n",
       "      <td>https://www.ikea.com/th/th/p/knipsa-basket-sea...</td>\n",
       "    </tr>\n",
       "    <tr>\n",
       "      <th>6</th>\n",
       "      <td>https://www.ikea.com/th/th/p/maevinn-basket-80...</td>\n",
       "    </tr>\n",
       "    <tr>\n",
       "      <th>7</th>\n",
       "      <td>https://www.ikea.com/th/th/p/bullig-box-bamboo...</td>\n",
       "    </tr>\n",
       "    <tr>\n",
       "      <th>8</th>\n",
       "      <td>https://www.ikea.com/th/th/p/lustigkurre-baske...</td>\n",
       "    </tr>\n",
       "    <tr>\n",
       "      <th>9</th>\n",
       "      <td>https://www.ikea.com/th/th/p/tolkning-basket-h...</td>\n",
       "    </tr>\n",
       "    <tr>\n",
       "      <th>10</th>\n",
       "      <td>https://www.ikea.com/th/th/p/vaexthus-basket-b...</td>\n",
       "    </tr>\n",
       "    <tr>\n",
       "      <th>11</th>\n",
       "      <td>https://www.ikea.com/th/th/p/maevinn-basket-st...</td>\n",
       "    </tr>\n",
       "    <tr>\n",
       "      <th>12</th>\n",
       "      <td>https://www.ikea.com/th/th/p/risatorp-basket-w...</td>\n",
       "    </tr>\n",
       "    <tr>\n",
       "      <th>13</th>\n",
       "      <td>https://www.ikea.com/th/th/p/vaexthus-basket-r...</td>\n",
       "    </tr>\n",
       "    <tr>\n",
       "      <th>14</th>\n",
       "      <td>https://www.ikea.com/th/th/p/snidad-basket-rat...</td>\n",
       "    </tr>\n",
       "    <tr>\n",
       "      <th>15</th>\n",
       "      <td>https://www.ikea.com/th/th/p/djurtraenare-bask...</td>\n",
       "    </tr>\n",
       "    <tr>\n",
       "      <th>16</th>\n",
       "      <td>https://www.ikea.com/th/th/p/tjabbig-basket-na...</td>\n",
       "    </tr>\n",
       "    <tr>\n",
       "      <th>17</th>\n",
       "      <td>https://www.ikea.com/th/th/p/risatorp-basket-w...</td>\n",
       "    </tr>\n",
       "    <tr>\n",
       "      <th>18</th>\n",
       "      <td>https://www.ikea.com/th/th/p/ljungan-basket-wi...</td>\n",
       "    </tr>\n",
       "    <tr>\n",
       "      <th>19</th>\n",
       "      <td>https://www.ikea.com/th/th/p/mjoelkkanna-baske...</td>\n",
       "    </tr>\n",
       "    <tr>\n",
       "      <th>20</th>\n",
       "      <td>https://www.ikea.com/th/th/p/maevinn-basket-bl...</td>\n",
       "    </tr>\n",
       "    <tr>\n",
       "      <th>21</th>\n",
       "      <td>https://www.ikea.com/th/th/p/hoestagille-baske...</td>\n",
       "    </tr>\n",
       "    <tr>\n",
       "      <th>22</th>\n",
       "      <td>https://www.ikea.com/th/th/p/risatorp-basket-w...</td>\n",
       "    </tr>\n",
       "    <tr>\n",
       "      <th>23</th>\n",
       "      <td>https://www.ikea.com/th/th/p/djurtraenare-bask...</td>\n",
       "    </tr>\n",
       "    <tr>\n",
       "      <th>24</th>\n",
       "      <td>https://www.ikea.com/th/th/p/smarra-box-with-l...</td>\n",
       "    </tr>\n",
       "    <tr>\n",
       "      <th>25</th>\n",
       "      <td>https://www.ikea.com/th/th/p/fryken-box-with-l...</td>\n",
       "    </tr>\n",
       "    <tr>\n",
       "      <th>26</th>\n",
       "      <td>https://www.ikea.com/th/th/p/vaexthus-basket-p...</td>\n",
       "    </tr>\n",
       "    <tr>\n",
       "      <th>27</th>\n",
       "      <td>https://www.ikea.com/th/th/p/tolkning-hanging-...</td>\n",
       "    </tr>\n",
       "    <tr>\n",
       "      <th>28</th>\n",
       "      <td>https://www.ikea.com/th/th/p/djurtraenare-bask...</td>\n",
       "    </tr>\n",
       "    <tr>\n",
       "      <th>29</th>\n",
       "      <td>https://www.ikea.com/th/th/p/tolkning-basket-h...</td>\n",
       "    </tr>\n",
       "    <tr>\n",
       "      <th>30</th>\n",
       "      <td>https://www.ikea.com/th/th/p/tjabbig-basket-na...</td>\n",
       "    </tr>\n",
       "    <tr>\n",
       "      <th>31</th>\n",
       "      <td>https://www.ikea.com/th/th/p/ljungan-basket-10...</td>\n",
       "    </tr>\n",
       "    <tr>\n",
       "      <th>32</th>\n",
       "      <td>https://www.ikea.com/th/th/p/risatorp-basket-w...</td>\n",
       "    </tr>\n",
       "    <tr>\n",
       "      <th>33</th>\n",
       "      <td>https://www.ikea.com/th/th/p/krallig-basket-se...</td>\n",
       "    </tr>\n",
       "    <tr>\n",
       "      <th>34</th>\n",
       "      <td>https://www.ikea.com/th/th/p/jaegmaestare-bask...</td>\n",
       "    </tr>\n",
       "    <tr>\n",
       "      <th>35</th>\n",
       "      <td>https://www.ikea.com/th/th/p/pudda-basket-1034...</td>\n",
       "    </tr>\n",
       "    <tr>\n",
       "      <th>36</th>\n",
       "      <td>https://www.ikea.com/th/th/p/jaegmaestare-bask...</td>\n",
       "    </tr>\n",
       "    <tr>\n",
       "      <th>37</th>\n",
       "      <td>https://www.ikea.com/th/th/p/purrpingla-storag...</td>\n",
       "    </tr>\n",
       "    <tr>\n",
       "      <th>38</th>\n",
       "      <td>https://www.ikea.com/th/th/p/trummis-basket-ha...</td>\n",
       "    </tr>\n",
       "    <tr>\n",
       "      <th>39</th>\n",
       "      <td>https://www.ikea.com/th/th/p/risatorp-basket-d...</td>\n",
       "    </tr>\n",
       "    <tr>\n",
       "      <th>40</th>\n",
       "      <td>https://www.ikea.com/th/th/p/risatorp-basket-d...</td>\n",
       "    </tr>\n",
       "    <tr>\n",
       "      <th>41</th>\n",
       "      <td>https://www.ikea.com/th/th/p/risatorp-basket-l...</td>\n",
       "    </tr>\n",
       "    <tr>\n",
       "      <th>42</th>\n",
       "      <td>https://www.ikea.com/th/th/p/branaes-basket-ra...</td>\n",
       "    </tr>\n",
       "    <tr>\n",
       "      <th>43</th>\n",
       "      <td>https://www.ikea.com/th/th/p/risatorp-basket-g...</td>\n",
       "    </tr>\n",
       "  </tbody>\n",
       "</table>\n",
       "</div>"
      ]
     },
     "execution_count": 19,
     "metadata": {},
     "output_type": "execute_result"
    }
   ],
   "execution_count": 19
  },
  {
   "metadata": {
    "ExecuteTime": {
     "end_time": "2024-09-17T14:25:38.526250Z",
     "start_time": "2024-09-17T14:25:38.482836Z"
    }
   },
   "cell_type": "code",
   "source": [
    "with open(\"json/link/Bed Textile/dropDupBedTextileLink.json\", 'r', encoding='utf-8') as f:\n",
    "    data = json.load(f)\n",
    "\n",
    "df2 = pd.DataFrame(data)\n",
    "df2"
   ],
   "id": "9cf438ad6ac893f9",
   "outputs": [
    {
     "data": {
      "text/plain": [
       "                                                  link\n",
       "0    https://www.ikea.com/th/th/p/dvala-fitted-shee...\n",
       "1    https://www.ikea.com/th/th/p/stjaernstarr-duve...\n",
       "2    https://www.ikea.com/th/th/p/bruksvara-4-piece...\n",
       "3    https://www.ikea.com/th/th/p/grusstarr-duvet-c...\n",
       "4    https://www.ikea.com/th/th/p/slanhoestmal-duve...\n",
       "..                                                 ...\n",
       "812  https://www.ikea.com/th/th/p/sandeternell-cush...\n",
       "813  https://www.ikea.com/th/th/p/soetroenn-cushion...\n",
       "814  https://www.ikea.com/th/th/p/bruntag-cushion-c...\n",
       "815  https://www.ikea.com/th/th/p/jaettevallmo-fitt...\n",
       "816  https://www.ikea.com/th/th/p/kritsuga-duvet-co...\n",
       "\n",
       "[817 rows x 1 columns]"
      ],
      "text/html": [
       "<div>\n",
       "<style scoped>\n",
       "    .dataframe tbody tr th:only-of-type {\n",
       "        vertical-align: middle;\n",
       "    }\n",
       "\n",
       "    .dataframe tbody tr th {\n",
       "        vertical-align: top;\n",
       "    }\n",
       "\n",
       "    .dataframe thead th {\n",
       "        text-align: right;\n",
       "    }\n",
       "</style>\n",
       "<table border=\"1\" class=\"dataframe\">\n",
       "  <thead>\n",
       "    <tr style=\"text-align: right;\">\n",
       "      <th></th>\n",
       "      <th>link</th>\n",
       "    </tr>\n",
       "  </thead>\n",
       "  <tbody>\n",
       "    <tr>\n",
       "      <th>0</th>\n",
       "      <td>https://www.ikea.com/th/th/p/dvala-fitted-shee...</td>\n",
       "    </tr>\n",
       "    <tr>\n",
       "      <th>1</th>\n",
       "      <td>https://www.ikea.com/th/th/p/stjaernstarr-duve...</td>\n",
       "    </tr>\n",
       "    <tr>\n",
       "      <th>2</th>\n",
       "      <td>https://www.ikea.com/th/th/p/bruksvara-4-piece...</td>\n",
       "    </tr>\n",
       "    <tr>\n",
       "      <th>3</th>\n",
       "      <td>https://www.ikea.com/th/th/p/grusstarr-duvet-c...</td>\n",
       "    </tr>\n",
       "    <tr>\n",
       "      <th>4</th>\n",
       "      <td>https://www.ikea.com/th/th/p/slanhoestmal-duve...</td>\n",
       "    </tr>\n",
       "    <tr>\n",
       "      <th>...</th>\n",
       "      <td>...</td>\n",
       "    </tr>\n",
       "    <tr>\n",
       "      <th>812</th>\n",
       "      <td>https://www.ikea.com/th/th/p/sandeternell-cush...</td>\n",
       "    </tr>\n",
       "    <tr>\n",
       "      <th>813</th>\n",
       "      <td>https://www.ikea.com/th/th/p/soetroenn-cushion...</td>\n",
       "    </tr>\n",
       "    <tr>\n",
       "      <th>814</th>\n",
       "      <td>https://www.ikea.com/th/th/p/bruntag-cushion-c...</td>\n",
       "    </tr>\n",
       "    <tr>\n",
       "      <th>815</th>\n",
       "      <td>https://www.ikea.com/th/th/p/jaettevallmo-fitt...</td>\n",
       "    </tr>\n",
       "    <tr>\n",
       "      <th>816</th>\n",
       "      <td>https://www.ikea.com/th/th/p/kritsuga-duvet-co...</td>\n",
       "    </tr>\n",
       "  </tbody>\n",
       "</table>\n",
       "<p>817 rows × 1 columns</p>\n",
       "</div>"
      ]
     },
     "execution_count": 20,
     "metadata": {},
     "output_type": "execute_result"
    }
   ],
   "execution_count": 20
  },
  {
   "metadata": {
    "ExecuteTime": {
     "end_time": "2024-09-17T14:24:20.727602Z",
     "start_time": "2024-09-17T14:24:20.709511Z"
    }
   },
   "cell_type": "code",
   "source": "",
   "id": "69cb9e38e9dbd36",
   "outputs": [
    {
     "name": "stdout",
     "output_type": "stream",
     "text": [
      "True\n"
     ]
    }
   ],
   "execution_count": 17
  },
  {
   "metadata": {
    "ExecuteTime": {
     "end_time": "2024-09-17T15:17:54.061772Z",
     "start_time": "2024-09-17T15:17:53.962316Z"
    }
   },
   "cell_type": "code",
   "source": [
    "directory_path = 'json/link'\n",
    "\n",
    "# สร้าง DataFrame ว่างเพื่อเก็บข้อมูลทั้งหมด\n",
    "all_data = pd.DataFrame()\n",
    "\n",
    "# ใช้ os.walk เพื่อเดินทางในไดเรกทอรี่ทั้งหมด\n",
    "for root, dirs, files in os.walk(directory_path):\n",
    "    for file in files:\n",
    "        if file.endswith('.json'):\n",
    "            # สร้าง path ของไฟล์ JSON\n",
    "            file_path = os.path.join(root, file)\n",
    "\n",
    "            # ดึงชื่อโฟลเดอร์\n",
    "            folder_name = os.path.basename(root)\n",
    "\n",
    "            # อ่านข้อมูลจากไฟล์ JSON\n",
    "            with open(file_path, 'r', encoding='utf-8') as f:\n",
    "                data = json.load(f)\n",
    "\n",
    "                # แปลงข้อมูลเป็น DataFrame และเก็บข้อมูล folder_name\n",
    "                df = pd.DataFrame(data, columns=['link'])\n",
    "                df['folder_name'] = folder_name  # เพิ่มคอลัมน์ใหม่ที่เก็บชื่อโฟลเดอร์\n",
    "\n",
    "                # นำ DataFrame ไปต่อรวมกับ all_data\n",
    "                all_data = pd.concat([all_data, df], ignore_index=True)"
   ],
   "id": "5892e83813db5bd5",
   "outputs": [],
   "execution_count": 49
  },
  {
   "metadata": {},
   "cell_type": "code",
   "source": "all_data",
   "id": "f3d1aca1bdbe6fd",
   "outputs": [],
   "execution_count": null
  },
  {
   "metadata": {
    "ExecuteTime": {
     "end_time": "2024-09-17T15:22:00.201646Z",
     "start_time": "2024-09-17T15:22:00.180705Z"
    }
   },
   "cell_type": "code",
   "source": [
    "a = \"https://www.ikea.com/th/th/p/branaes-basket-white-20393412/\"\n",
    "\n",
    "if a in all_data['link'].values:\n",
    "    print(5)\n",
    "else:\n",
    "    print(6)\n",
    "    "
   ],
   "id": "2877a7a7b1c6a32e",
   "outputs": [
    {
     "name": "stdout",
     "output_type": "stream",
     "text": [
      "5\n"
     ]
    }
   ],
   "execution_count": 55
  },
  {
   "metadata": {
    "ExecuteTime": {
     "end_time": "2024-09-17T15:23:54.109218Z",
     "start_time": "2024-09-17T15:23:54.094317Z"
    }
   },
   "cell_type": "code",
   "source": [
    "def getB64ProductImg(uri):\n",
    "    driver = openDriver()\n",
    "    driver.get(uri)\n",
    "    findElement = driver.find_element(By.XPATH, \"//div[@class='pip-zoom-image']\")\n",
    "    img_element = findElement.find_element(By.TAG_NAME, \"img\")\n",
    "    srcset = img_element.get_attribute(\"srcset\")\n",
    "    first_link = srcset.split(\",\")[0].strip().split(\" \")[0]\n",
    "    driver.quit()\n",
    "    \n",
    "    imgB64 = requests.get(first_link).content\n",
    "    imgB64 = base64.b64encode(imgB64)\n",
    "    imgB64 = imgB64.decode(\"utf-8\")\n",
    "    return imgB64"
   ],
   "id": "e49144608c6a4a21",
   "outputs": [],
   "execution_count": 66
  },
  {
   "metadata": {
    "ExecuteTime": {
     "end_time": "2024-09-17T15:56:56.101091Z",
     "start_time": "2024-09-17T15:56:56.084960Z"
    }
   },
   "cell_type": "code",
   "source": [
    "def getProductDataInSubImg(element, all_data = all_data):\n",
    "    element = element.find_elements(By.CLASS_NAME, \"pub__shoppable-image__dot\")\n",
    "    linkProduct = [i.get_attribute(\"href\") for i in element]\n",
    "    code = []\n",
    "    dataSet = []\n",
    "    \n",
    "    for i in linkProduct:\n",
    "        brandName, productName,color, size, price = getDetailProduct(i)\n",
    "        stringDesc , codeProduct = getDescFromProduct(i)\n",
    "        imgBase64 = getB64ProductImg(i)\n",
    "        cate = \"\"\n",
    "        \n",
    "        if i in all_data['link'].values:\n",
    "            dataSet.append({\n",
    "                \"cate\": all_data['folder_name'].values[i],\n",
    "                \"Code\":codeProduct,\n",
    "                \"brandName\":brandName,\n",
    "                \"productName\":productName,\n",
    "                \"color\":color,\n",
    "                \"size\":size,\n",
    "                \"price\":price,\n",
    "                \"imgBase64\":imgBase64,\n",
    "                \"desc\":stringDesc\n",
    "            })\n",
    "\n",
    "            os.makedirs(\"json/product/product-in-subImg\", exist_ok=True)\n",
    "            try:\n",
    "                with open('json/product/product-in-subImg/product-in-subImg-data.json', 'r', encoding='utf-8') as FILE:\n",
    "                    existingData = json.load(FILE)\n",
    "    \n",
    "            except FileNotFoundError:\n",
    "                existingData = []\n",
    "    \n",
    "            existingData.extend(dataSet)\n",
    "            with open('json/product/product-in-subImg/product-in-subImg-data.json', 'w', encoding='utf-8') as FILE:\n",
    "                json.dump(existingData, FILE, ensure_ascii=False, indent=4)\n",
    "            \n",
    "        else:\n",
    "            dataSet.append({\n",
    "                \"cate\": cate,\n",
    "                \"Code\":codeProduct,\n",
    "                \"brandName\":brandName,\n",
    "                \"productName\":productName,\n",
    "                \"color\":color,\n",
    "                \"size\":size,\n",
    "                \"price\":price,\n",
    "                \"imgBase64\":imgBase64,\n",
    "                \"desc\":stringDesc\n",
    "            })\n",
    "            \n",
    "            os.makedirs(\"json/product/no-category-data\", exist_ok=True)\n",
    "            try:\n",
    "                with open('json/product/no-category-data/no-categot-product-data.json', 'r', encoding='utf-8') as FILE:\n",
    "                    existingData = json.load(FILE)\n",
    "            \n",
    "            except FileNotFoundError:\n",
    "                existingData = []\n",
    "            \n",
    "            existingData.extend(dataSet)\n",
    "            with open('json/product/no-category-data/no-categot-product-data.json', 'w', encoding='utf-8') as FILE:\n",
    "                json.dump(existingData, FILE, ensure_ascii=False, indent=4)\n",
    "            \n",
    "        code.append(codeProduct)\n",
    "    return code"
   ],
   "id": "eb0630644ecccce4",
   "outputs": [],
   "execution_count": 73
  },
  {
   "metadata": {
    "ExecuteTime": {
     "end_time": "2024-09-17T15:57:00.931866Z",
     "start_time": "2024-09-17T15:57:00.915276Z"
    }
   },
   "cell_type": "code",
   "source": [
    "def getSubImgInRoom(driver):\n",
    "    subImgInRoom = (driver.\n",
    "                   find_elements(By.XPATH, \n",
    "                   \"//div[@class='pub__shoppable-image pub__shoppable-image--visible-dots']\")\n",
    "                   )\n",
    "    dataSet = []\n",
    "    idSet = []\n",
    "    j = 0\n",
    "    \n",
    "    for i in subImgInRoom:\n",
    "        id = j\n",
    "        j = j + 1\n",
    "        \n",
    "        subImg = i.find_element(By.TAG_NAME, \"img\").get_attribute(\"srcset\").split(\",\")[0].strip().split(\" \")[0]\n",
    "        subImg = requests.get(subImg).content\n",
    "        subImg = base64.b64encode(subImg)\n",
    "        subImg = subImg.decode('utf-8')\n",
    "        \n",
    "        productCode = [].append(getProductDataInSubImg(i))\n",
    "        \n",
    "        dataSet.append({\n",
    "            \"id\":id,\n",
    "            \"subImg\":subImg,\n",
    "            \"productCode\":productCode\n",
    "        })\n",
    "        idSet.append(id)\n",
    "\n",
    "    os.makedirs(\"json/room\", exist_ok=True)\n",
    "    try:\n",
    "        with open('json/room/sub-img-rooms-data.json', 'r', encoding='utf-8') as FILE:\n",
    "            existingData = json.load(FILE)\n",
    "\n",
    "    except FileNotFoundError:\n",
    "        existingData = []\n",
    "\n",
    "    existingData.extend(dataSet)\n",
    "    with open('json/room/sub-img-rooms-data.json', 'w', encoding='utf-8') as FILE:\n",
    "        json.dump(existingData, FILE, ensure_ascii=False, indent=4)\n",
    "    \n",
    "        \n",
    "    return idSet\n",
    "    "
   ],
   "id": "e3113cf1f6ed9011",
   "outputs": [],
   "execution_count": 74
  },
  {
   "metadata": {
    "ExecuteTime": {
     "end_time": "2024-09-17T15:57:03.924245Z",
     "start_time": "2024-09-17T15:57:03.906786Z"
    }
   },
   "cell_type": "code",
   "source": [
    "def saveDataInRoom(uri):\n",
    "    browser = openDriver()\n",
    "    browser.get(uri)\n",
    "    body = browser.find_element(By.TAG_NAME, \"body\")\n",
    "    \n",
    "    for _ in range(10):\n",
    "        body.send_keys(Keys.PAGE_DOWN)\n",
    "        time.sleep(1)\n",
    "        \n",
    "    titleDescRoom = browser.find_element(By.XPATH, \"//h1[@class='c19ofv4i pub__h1 s1gshh7t']\").text\n",
    "    desc = browser.find_element(By.XPATH, \"//div[@class='i1ycpxq9 m1e9rlhw pub__designSystemText t91kxqv w1fdzi2f']\").text\n",
    "    mainImage = browser.find_element(By.XPATH, \"//span[@class='pub__aspect-ratio-box pub__aspect-ratio-box--wide']\").find_element(By.TAG_NAME, \"img\").get_attribute(\"srcset\").split(\",\")[0].strip().split(\" \")[0]\n",
    "    \n",
    "    mainImage = requests.get(mainImage).content\n",
    "    mainImage = base64.b64encode(mainImage)\n",
    "    mainImage = mainImage.decode(\"utf-8\") #base64 in form string\n",
    "    \n",
    "    idSubImg = [].append(getSubImgInRoom(browser))\n",
    "    browser.quit()\n",
    "    \n",
    "    return titleDescRoom, desc, mainImage, idSubImg\n",
    "\n",
    "    "
   ],
   "id": "ea50f5a345907d92",
   "outputs": [],
   "execution_count": 75
  },
  {
   "metadata": {
    "ExecuteTime": {
     "end_time": "2024-09-17T15:57:29.609056Z",
     "start_time": "2024-09-17T15:57:29.597005Z"
    }
   },
   "cell_type": "code",
   "source": [
    "def saveRoomData(uriRoom, roomName):\n",
    "    titleDescRoom, desc, mainImage, idSubImg = saveDataInRoom(uriRoom)\n",
    "    roomData = [\n",
    "        {\n",
    "            \"roomName\": roomName,\n",
    "            \"title\":titleDescRoom,\n",
    "            \"desc\":desc,\n",
    "            \"mainImage\":mainImage,\n",
    "            \"idSubImg\":idSubImg        \n",
    "        }\n",
    "    ]\n",
    "    \n",
    "    os.makedirs(\"json/room\", exist_ok=True)\n",
    "    try:\n",
    "        with open('json/room/rooms-data.json', 'r', encoding='utf-8') as FILE:\n",
    "            existingData = json.load(FILE)\n",
    "\n",
    "    except FileNotFoundError:\n",
    "        existingData = []\n",
    "\n",
    "    existingData.extend(roomData)\n",
    "    with open('json/room/rooms-data.json', 'w', encoding='utf-8') as FILE:\n",
    "        json.dump(existingData, FILE, ensure_ascii=False, indent=4)\n",
    "        "
   ],
   "id": "4bb7335042c4c45d",
   "outputs": [],
   "execution_count": 77
  },
  {
   "metadata": {
    "jupyter": {
     "is_executing": true
    },
    "ExecuteTime": {
     "start_time": "2024-09-17T15:57:32.680675Z"
    }
   },
   "cell_type": "code",
   "source": "saveRoomData(\"https://www.ikea.com/th/th/rooms/living-room/gallery/a-retro-living-room-with-lots-of-storage-pubfe564a00\", \"living-room\")",
   "id": "e3bc4c061e2816c1",
   "outputs": [],
   "execution_count": null
  },
  {
   "metadata": {
    "ExecuteTime": {
     "end_time": "2024-09-17T10:53:53.383167Z",
     "start_time": "2024-09-17T10:53:53.375757Z"
    }
   },
   "cell_type": "code",
   "source": [
    "dirName = {\n",
    "    \"bedroom\":{\n",
    "        \"titleDescRoom\" : nameDesc,\n",
    "        \"desc\" : desc,\n",
    "        \"mainImageB64\" : 1,\n",
    "        \"idImgSet\" :{0,1,2}\n",
    "    },\n",
    "    \"bathroom\":{\n",
    "        \"titleDescRoom\" : nameDesc,\n",
    "        \"desc\" : desc,\n",
    "        \"mainImageB64\" : 2,\n",
    "        \"idImgSet\" :{0,1,2}\n",
    "    }\n",
    "}\n",
    "\n",
    "ImgItemInRoom = [\n",
    "    {   \n",
    "        'id':0,\n",
    "        \"b64\": 64,\n",
    "        \"itemCodeSet\": {1, 2, 3, 4, 5}\n",
    "    },\n",
    "    {\n",
    "        'id':1,\n",
    "        \"b64\": 64,\n",
    "        \"itemCodeSet\": {1, 2, 3, 4, 5}\n",
    "    },\n",
    "    {\n",
    "        'id':2,\n",
    "        \"b64\": 64,\n",
    "        \"itemCodeSet\": {1, 2, 3, 4, 5}\n",
    "    }\n",
    "]\n",
    "\n",
    "dirItemInRoom = {\n",
    "    \"cateName\":[\n",
    "        {\n",
    "            \"codeId\" : 1,\n",
    "            \"brandName\": \"app\",\n",
    "            \"productName\": \"lamp\",\n",
    "            \"color\": \"หรี่ไฟได้ ขาว\",\n",
    "            \"size\": \"80 ซม.\",\n",
    "            \"price\": \"790บาท/ช\",\n",
    "            \"imageB64\" : \"b64\",\n",
    "            \"desc\":\"hello world\"\n",
    "        },\n",
    "        {\n",
    "            \"codeId\" : 2,\n",
    "            \"brandName\": \"app\",\n",
    "            \"productName\": \"lamp\",\n",
    "            \"color\": \"หรี่ไฟได้ ขาว\",\n",
    "            \"size\": \"80 ซม.\",\n",
    "            \"price\": \"790บาท/ช\",\n",
    "            \"imageB64\" : \"b64\",\n",
    "            \"desc\":\"hello world\"\n",
    "        }\n",
    "    ]\n",
    "}"
   ],
   "id": "471880254f191a86",
   "outputs": [],
   "execution_count": 140
  },
  {
   "metadata": {},
   "cell_type": "markdown",
   "source": "---------",
   "id": "2c8a8a92d2336ac1"
  },
  {
   "metadata": {},
   "cell_type": "markdown",
   "source": "",
   "id": "61afdda4cb89cfd5"
  },
  {
   "metadata": {},
   "cell_type": "markdown",
   "source": "",
   "id": "9abb142666bf28e"
  },
  {
   "metadata": {},
   "cell_type": "markdown",
   "source": "",
   "id": "9b94ee5d091f6e0a"
  },
  {
   "metadata": {},
   "cell_type": "markdown",
   "source": "",
   "id": "51293eb23cd2573"
  },
  {
   "metadata": {
    "ExecuteTime": {
     "end_time": "2024-09-17T09:42:27.271893Z",
     "start_time": "2024-09-17T09:42:24.678896Z"
    }
   },
   "cell_type": "code",
   "outputs": [],
   "execution_count": 83,
   "source": "driver = openDriver()",
   "id": "30a7aebeb60e5d8"
  },
  {
   "metadata": {
    "ExecuteTime": {
     "end_time": "2024-09-17T09:42:52.268444Z",
     "start_time": "2024-09-17T09:42:28.242323Z"
    }
   },
   "cell_type": "code",
   "outputs": [],
   "execution_count": 84,
   "source": [
    "driver.get(\"https://www.ikea.com/th/th/rooms/bedroom/gallery/a-dreamy-tropical-bohemian-style-teenagers-bedroom-pub0ecd6380\")\n",
    "body = driver.find_element(By.TAG_NAME, \"body\")\n",
    "for i in range(10):  # ปรับค่าตามจำนวนครั้งที่ต้องการเลื่อน\n",
    "    body.send_keys(Keys.PAGE_DOWN)\n",
    "    time.sleep(2)  # รอให้ข้อมูลโหลด"
   ],
   "id": "17c96e8a93703c15"
  },
  {
   "metadata": {
    "ExecuteTime": {
     "end_time": "2024-09-16T20:36:10.285924Z",
     "start_time": "2024-09-16T20:36:10.256445Z"
    }
   },
   "cell_type": "code",
   "outputs": [],
   "execution_count": 57,
   "source": "productRoom = driver.find_elements(By.XPATH, \"//div[@class='pub__shoppable-image pub__shoppable-image--visible-dots']\")",
   "id": "ac8a11ea7cf5339"
  },
  {
   "metadata": {
    "ExecuteTime": {
     "end_time": "2024-09-17T10:10:05.356587Z",
     "start_time": "2024-09-17T10:10:05.291231Z"
    }
   },
   "cell_type": "code",
   "outputs": [],
   "execution_count": 122,
   "source": [
    "nameDesc = driver.find_element(By.XPATH, \"//h1[@class='c19ofv4i pub__h1 s1gshh7t']\").text\n",
    "desc = (driver.find_element(By.XPATH, \"//div[@class='i1ycpxq9 m1e9rlhw pub__designSystemText t91kxqv w1fdzi2f']\")\n",
    "        .text)\n",
    "mainImage = driver.find_element(By.XPATH, \"//span[@class='pub__aspect-ratio-box pub__aspect-ratio-box--wide']\").find_element(By.TAG_NAME, \"img\").get_attribute(\"srcset\").split(\",\")[0].strip().split(\" \")[0]\n"
   ],
   "id": "315a763b3663d59d"
  },
  {
   "metadata": {
    "ExecuteTime": {
     "end_time": "2024-09-16T20:36:12.795339Z",
     "start_time": "2024-09-16T20:36:12.491546Z"
    }
   },
   "cell_type": "code",
   "source": [
    "linkBut = {}\n",
    "for i in productRoom:\n",
    "    x = i.find_element(By.TAG_NAME, \"img\").get_attribute(\"srcset\").split(\",\")[0].strip().split(\" \")[0]\n",
    "    # link.append(x)\n",
    "    y = i.find_elements(By.CLASS_NAME, \"pub__shoppable-image__dot\")\n",
    "    linkBut[x] = [j.get_attribute(\"href\") for j in y]\n"
   ],
   "id": "a5b1758eccf09aeb",
   "outputs": [],
   "execution_count": 58
  },
  {
   "metadata": {},
   "cell_type": "code",
   "source": "# linkBut",
   "id": "599935b87cdf8a57",
   "outputs": [],
   "execution_count": null
  },
  {
   "metadata": {},
   "cell_type": "markdown",
   "source": "",
   "id": "c35271d17f5fba67"
  },
  {
   "metadata": {},
   "cell_type": "markdown",
   "source": "",
   "id": "c71637b575559cdd"
  },
  {
   "metadata": {},
   "cell_type": "code",
   "source": [
    "d = {\n",
    "    \"bed\":{\n",
    "    {\n",
    "    \"ID\":\"1233\",\n",
    "    \"name\":\"hello\",\n",
    "    \"price\":1,\n",
    "    \"size\":1,\n",
    "    \"desc\":\"Hi\",\n",
    "    \"color\":\"blue\",\n",
    "    \"stock\":1,\n",
    "    \"img\":\"base64\"\n",
    "    },\n",
    "    {\n",
    "    \"name\":\"hello\",\n",
    "    \"price\":1,\n",
    "    \"size\":1,\n",
    "    \"desc\":\"Hi\",\n",
    "    \"color\":\"blue\",\n",
    "    \"stock\":1,\n",
    "    \"img\":\"base64\"\n",
    "    }\n",
    "    }\n",
    "}"
   ],
   "id": "c199155025c50c8d",
   "outputs": [],
   "execution_count": null
  }
 ],
 "metadata": {
  "kernelspec": {
   "display_name": "Python 3",
   "language": "python",
   "name": "python3"
  },
  "language_info": {
   "codemirror_mode": {
    "name": "ipython",
    "version": 2
   },
   "file_extension": ".py",
   "mimetype": "text/x-python",
   "name": "python",
   "nbconvert_exporter": "python",
   "pygments_lexer": "ipython2",
   "version": "2.7.6"
  }
 },
 "nbformat": 4,
 "nbformat_minor": 5
}
