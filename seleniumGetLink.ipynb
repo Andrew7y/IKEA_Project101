{
 "cells": [
  {
   "cell_type": "code",
   "id": "initial_id",
   "metadata": {
    "collapsed": true,
    "ExecuteTime": {
     "end_time": "2024-09-14T13:18:54.276089Z",
     "start_time": "2024-09-14T13:18:54.270912Z"
    }
   },
   "source": [
    "from os import times\n",
    "import time\n",
    "from selenium import webdriver\n",
    "from selenium.webdriver.common.by import By\n",
    "from selenium.webdriver.chrome.service import Service\n",
    "from selenium.webdriver.chrome.options import Options\n",
    "from selenium.webdriver.common.action_chains import ActionChains\n",
    "from selenium.webdriver.support.ui import WebDriverWait\n",
    "from setuptools.command.install import install\n",
    "from selenium.webdriver.support import expected_conditions as EC\n",
    "from trio import sleep\n",
    "import requests\n",
    "import base64\n",
    "\n",
    "# from scraping import driver"
   ],
   "outputs": [],
   "execution_count": 105
  },
  {
   "metadata": {
    "ExecuteTime": {
     "end_time": "2024-09-14T13:18:56.496369Z",
     "start_time": "2024-09-14T13:18:56.490327Z"
    }
   },
   "cell_type": "code",
   "source": [
    "def openDriver():\n",
    "    chrome_options = Options()\n",
    "    chrome_options.add_argument(\"--headless\")\n",
    "    chrome_options.add_argument(\"--incognito\")\n",
    "    chrome_options.add_argument(\"--no-sandbox\")\n",
    "    chrome_options.add_argument(\"--disable-dev-shm-usage\")\n",
    "    return webdriver.Chrome(options=chrome_options)\n"
   ],
   "id": "4260dc7b2ea54cc",
   "outputs": [],
   "execution_count": 106
  },
  {
   "metadata": {
    "ExecuteTime": {
     "end_time": "2024-09-14T13:18:59.151686Z",
     "start_time": "2024-09-14T13:18:59.146625Z"
    }
   },
   "cell_type": "code",
   "source": [
    "def getLink(uri):\n",
    "    driver = openDriver()\n",
    "    driver.get(uri)\n",
    "    time.sleep(1)\n",
    "    \n",
    "    links = []\n",
    "    parent = driver.find_elements(By.CLASS_NAME, \"plp-fragment-wrapper\")\n",
    "    for index in parent:\n",
    "        root = ((index.find_element(By.CLASS_NAME, \"plp-mastercard \").\n",
    "                 find_element(By.TAG_NAME, \"a\")).\n",
    "                get_attribute(\"href\"))\n",
    "        links.append(root)\n",
    "        \n",
    "    driver.quit()\n",
    "    return links\n"
   ],
   "id": "6d929bbe78645831",
   "outputs": [],
   "execution_count": 107
  },
  {
   "metadata": {
    "ExecuteTime": {
     "end_time": "2024-09-14T13:19:02.058432Z",
     "start_time": "2024-09-14T13:19:02.050407Z"
    }
   },
   "cell_type": "code",
   "source": [
    "import json\n",
    "import os\n",
    "\n",
    "def saveDataToJSON(directory, filename, data):\n",
    "    os.makedirs(\"json/link/\" + directory, exist_ok=True)\n",
    "    try:\n",
    "        with open(f'json/link/{directory}/{filename}.json', 'r', encoding='utf-8') as FILE:\n",
    "            existingData = json.load(FILE)\n",
    "            \n",
    "    except FileNotFoundError:\n",
    "        existingData = []\n",
    "    \n",
    "    existingData.extend(data)\n",
    "    with open(f'json/link/{directory}/{filename}.json', 'w', encoding='utf-8') as FILE:\n",
    "        json.dump(existingData, FILE, ensure_ascii=False, indent=4)\n",
    "        "
   ],
   "id": "54b6161002a43a4e",
   "outputs": [],
   "execution_count": 108
  },
  {
   "metadata": {
    "ExecuteTime": {
     "end_time": "2024-09-14T09:06:54.000764Z",
     "start_time": "2024-09-14T09:05:52.017588Z"
    }
   },
   "cell_type": "code",
   "outputs": [
    {
     "name": "stdout",
     "output_type": "stream",
     "text": [
      "page =  12\n",
      "page =  13\n"
     ]
    }
   ],
   "execution_count": 10,
   "source": [
    "for i in range(12,14):\n",
    "    url = {\n",
    "        \"furniture sets\":\n",
    "               f\"https://www.ikea.com/th/th/cat/furniture-sets-55036/?page={i}\"\n",
    "    }\n",
    "    LinkList = getLink(url.get('furniture sets'))\n",
    "    saveDataToJSON(\"furniture sets\",\"FurnitureSetsLink\",LinkList)\n",
    "    print(\"page = \",i)\n",
    "    "
   ],
   "id": "ac7fef9c67edfbfe"
  },
  {
   "metadata": {
    "ExecuteTime": {
     "end_time": "2024-09-14T13:19:05.874642Z",
     "start_time": "2024-09-14T13:19:05.869324Z"
    }
   },
   "cell_type": "code",
   "source": [
    "def getLinkProduct(n, nameCat, urlCat):\n",
    "    for i in range(1, n):\n",
    "        uri = {\n",
    "            nameCat:\n",
    "                f\"{urlCat}/?page={i}\"\n",
    "        }\n",
    "        linkList = getLink(uri.get(nameCat))\n",
    "        saveDataToJSON(nameCat, f\"{nameCat}Link\", linkList)\n",
    "        print(\"page = \", i)"
   ],
   "id": "2a7726660d1a2dd2",
   "outputs": [],
   "execution_count": 109
  },
  {
   "metadata": {},
   "cell_type": "markdown",
   "source": "--------------------",
   "id": "321eb8b2d70a9aa5"
  },
  {
   "metadata": {
    "ExecuteTime": {
     "end_time": "2024-09-14T13:23:40.718625Z",
     "start_time": "2024-09-14T13:23:40.714324Z"
    }
   },
   "cell_type": "code",
   "source": [
    "def getDetailProduct(urlCat):\n",
    "    driver = openDriver()\n",
    "    driver.get(urlCat)\n",
    "    \n",
    "    time.sleep(1)\n",
    "    allDetail = driver.find_element(By.XPATH, '//div[@class=\"js-price-package pip-price-package\"]')\n",
    "    brandName = allDetail.text.split(\"\\n\")[0]\n",
    "    detail = allDetail.text.split(\"\\n\")[1].split(\", \")\n",
    "    productName = detail[0]\n",
    "    try:\n",
    "        color = detail[1]\n",
    "    except:\n",
    "        color = None\n",
    "    try:\n",
    "        size = detail[2]\n",
    "    except:\n",
    "        size = None\n",
    "    price = allDetail.text.split(\"\\n\")[2][:-3]\n",
    "    \n",
    "    driver.quit()\n",
    "    return brandName, productName,color, size, price"
   ],
   "id": "be969c8e0d2d89f",
   "outputs": [],
   "execution_count": 119
  },
  {
   "metadata": {
    "ExecuteTime": {
     "end_time": "2024-09-14T12:03:42.315965Z",
     "start_time": "2024-09-14T12:03:10.204991Z"
    }
   },
   "cell_type": "code",
   "source": [
    "brandName, productName,color, size, price = getDetailProduct(\"https://www.ikea.com/th/th/p/kallax-shelving-unit-white-20351884/\")\n",
    "print(\"BrandName :\",brandName)\n",
    "print(\"ProductName :\",productName)\n",
    "print(\"Color:\",color)\n",
    "print(\"Size:\",size)\n",
    "print(\"Price:\",price)\n"
   ],
   "id": "6c437e04e2050565",
   "outputs": [
    {
     "name": "stdout",
     "output_type": "stream",
     "text": [
      "BrandName : KALLAX คอลแล็กซ์\n",
      "ProductName : ชั้นวางของ\n",
      "Color: ขาว\n",
      "Size: 77x147 ซม.\n",
      "Price: 2,290\n"
     ]
    }
   ],
   "execution_count": 65
  },
  {
   "metadata": {},
   "cell_type": "markdown",
   "source": "-----------------------------------------------------------------------------------------",
   "id": "d24528b3fec8983"
  },
  {
   "metadata": {},
   "cell_type": "markdown",
   "source": "###กดปุ่ม เพื่อรับข้อมูล",
   "id": "2c5eba16386252c3"
  },
  {
   "metadata": {
    "ExecuteTime": {
     "end_time": "2024-09-14T13:31:58.430107Z",
     "start_time": "2024-09-14T13:31:58.421904Z"
    }
   },
   "cell_type": "code",
   "source": [
    "def getDescFromProduct(uri):\n",
    "    chrome_options = Options()\n",
    "    chrome_options.add_argument(\"--headless\")\n",
    "    chrome_options.add_argument(\"--incognito\")\n",
    "    chrome_options.add_argument(\"--no-sandbox\")\n",
    "    chrome_options.add_argument(\"--disable-dev-shm-usage\")\n",
    "    \n",
    "    browser = webdriver.Chrome(options=chrome_options)\n",
    "    browser.get(uri)\n",
    "    try:\n",
    "        button = WebDriverWait(browser, 1).until(\n",
    "            EC.element_to_be_clickable((By.CLASS_NAME, 'pip-list-view-item__action'))\n",
    "        )\n",
    "        button.click()  \n",
    "        paragraphs = browser.find_elements(By.CLASS_NAME, 'pip-product-details__paragraph')\n",
    "        codeProduct = (browser.find_element(By.CLASS_NAME, 'pip-product-identifier__value').\n",
    "                       get_attribute(\"innerText\"))\n",
    "        \n",
    "        stringDesc = \"\"\n",
    "        for paragraph in paragraphs:\n",
    "            stringDesc += paragraph.get_attribute(\"innerText\")+\"\\n\\n\"\n",
    "            \n",
    "        return stringDesc , codeProduct\n",
    "    except Exception as e:\n",
    "        print(f\"เกิดข้อผิดพลาด: {e}\")\n",
    "        \n",
    "    browser.quit()"
   ],
   "id": "21eb1448d97af929",
   "outputs": [],
   "execution_count": 121
  },
  {
   "metadata": {},
   "cell_type": "markdown",
   "source": "------------------------",
   "id": "5b5d32590110ec77"
  },
  {
   "metadata": {
    "ExecuteTime": {
     "end_time": "2024-09-14T13:19:25.938420Z",
     "start_time": "2024-09-14T13:19:25.933679Z"
    }
   },
   "cell_type": "code",
   "source": [
    "def getImage(uri, dirName, fileName):\n",
    "    chrome_options = Options()\n",
    "    chrome_options.add_argument(\"--headless\")\n",
    "    chrome_options.add_argument(\"--incognito\")\n",
    "    chrome_options.add_argument(\"--no-sandbox\")\n",
    "    chrome_options.add_argument(\"--disable-dev-shm-usage\")\n",
    "    \n",
    "    driver = webdriver.Chrome(options=chrome_options)\n",
    "    driver.get(uri)\n",
    "    findElement = driver.find_element(By.XPATH, \"//div[@class='pip-zoom-image']\")\n",
    "    img_element = findElement.find_element(By.TAG_NAME, \"img\")\n",
    "    srcset = img_element.get_attribute(\"srcset\")\n",
    "    \n",
    "    first_link = srcset.split(\",\")[0].strip().split(\" \")[0]\n",
    "    \n",
    "    driver.quit()\n",
    "    saveImage(first_link, dirName, fileName)\n",
    "    return kernelImage(dirName, fileName)\n",
    "    "
   ],
   "id": "661ea2d33e7f5903",
   "outputs": [],
   "execution_count": 112
  },
  {
   "metadata": {
    "ExecuteTime": {
     "end_time": "2024-09-14T13:19:29.447075Z",
     "start_time": "2024-09-14T13:19:29.442853Z"
    }
   },
   "cell_type": "code",
   "source": [
    "# Download Image for Product\n",
    "def saveImage(uri, dirName, fileName):\n",
    "    response = requests.get(uri)\n",
    "    \n",
    "    if response.status_code == 200:\n",
    "        os.makedirs(\"image/\"+dirName, exist_ok=True)\n",
    "        with open(f\"image/{dirName}/{fileName}_image.jpg\", \"wb\") as file:\n",
    "            file.write(response.content)\n",
    "    else:\n",
    "        print(\"เกิดข้อผิดพลาดในการดาวน์โหลดภาพ:\", response.status_code)\n"
   ],
   "id": "8f767d1b622552df",
   "outputs": [],
   "execution_count": 113
  },
  {
   "metadata": {},
   "cell_type": "code",
   "outputs": [],
   "execution_count": null,
   "source": "",
   "id": "dd8eb77da22b0c85"
  },
  {
   "metadata": {
    "ExecuteTime": {
     "end_time": "2024-09-14T13:19:31.849159Z",
     "start_time": "2024-09-14T13:19:31.845144Z"
    }
   },
   "cell_type": "code",
   "source": [
    "def kernelImage(dirName, fileName):\n",
    "    with open(f\"image/{dirName}/{fileName}_image.jpg\", \"rb\") as png_file:\n",
    "        # อ่านไฟล์ PNG\n",
    "        png_data = png_file.read()\n",
    "        # แปลงข้อมูลไฟล์ PNG เป็น Base64\n",
    "        base64_encoded_data = base64.b64encode(png_data)\n",
    "        # แปลง Base64 เป็น string เพื่อใช้งาน\n",
    "        base64_string = base64_encoded_data.decode('utf-8')\n",
    "        \n",
    "    return base64_string\n",
    "    \n",
    "    "
   ],
   "id": "4dad42363b9414a0",
   "outputs": [],
   "execution_count": 114
  },
  {
   "metadata": {
    "ExecuteTime": {
     "end_time": "2024-09-14T12:30:41.253219Z",
     "start_time": "2024-09-14T12:30:41.244846Z"
    }
   },
   "cell_type": "code",
   "source": "import pandas as pd",
   "id": "33537ff61eeef977",
   "outputs": [],
   "execution_count": 86
  },
  {
   "metadata": {
    "ExecuteTime": {
     "end_time": "2024-09-14T12:30:46.684056Z",
     "start_time": "2024-09-14T12:30:46.679980Z"
    }
   },
   "cell_type": "code",
   "source": [
    "def readJson(pathname, filename):\n",
    "    data = pd.read_json(\"json/link/\"+pathname+\"/\"+filename)\n",
    "    return data"
   ],
   "id": "478186f540639a62",
   "outputs": [],
   "execution_count": 87
  },
  {
   "metadata": {
    "ExecuteTime": {
     "end_time": "2024-09-14T13:20:19.239874Z",
     "start_time": "2024-09-14T13:20:19.233847Z"
    }
   },
   "cell_type": "code",
   "source": [
    "def saveProductDataToJson(dirName, fileName):\n",
    "    links = readJson(dirName, fileName)\n",
    "    datas = []\n",
    "    for i in links[0][:10]:\n",
    "        brandName, productName,color, size, price = getDetailProduct(i)\n",
    "        stringDesc , codeProduct = getDescFromProduct(i)\n",
    "        imgBase64 = getImage(i, dirName, codeProduct)\n",
    "\n",
    "        datas.append({\n",
    "            \"Code\":codeProduct,\n",
    "            \"brandName\":brandName,\n",
    "            \"productName\":productName,\n",
    "            \"color\":color,\n",
    "            \"size\":size,\n",
    "            \"price\":price,\n",
    "            \"imgBase64\":imgBase64,\n",
    "            \"desc\":stringDesc\n",
    "        })\n",
    "        \n",
    "    datas = {dirName:datas}\n",
    "    os.makedirs(\"json/product/\" + dirName, exist_ok=True)\n",
    "    try:\n",
    "        with open(f'json/product/{dirName}/{dirName}_datas.json', 'w', encoding='utf-8') as FILE:\n",
    "            json.dump(datas, FILE, ensure_ascii=False, indent=4)\n",
    "    except FileNotFoundError:\n",
    "        print(\" Can not save data\")"
   ],
   "id": "8444468fa5676cc9",
   "outputs": [],
   "execution_count": 117
  },
  {
   "metadata": {
    "ExecuteTime": {
     "end_time": "2024-09-14T13:36:46.314659Z",
     "start_time": "2024-09-14T13:32:07.680825Z"
    }
   },
   "cell_type": "code",
   "source": "saveProductDataToJson(\"sofa\", \"sofaLink.json\")",
   "id": "889129d2d42bd430",
   "outputs": [],
   "execution_count": 122
  },
  {
   "metadata": {
    "ExecuteTime": {
     "end_time": "2024-09-14T11:18:02.139161Z",
     "start_time": "2024-09-14T11:18:02.119955Z"
    }
   },
   "cell_type": "code",
   "outputs": [
    {
     "ename": "SyntaxError",
     "evalue": "incomplete input (1764953088.py, line 20)",
     "output_type": "error",
     "traceback": [
      "\u001B[1;36m  Cell \u001B[1;32mIn[47], line 20\u001B[1;36m\u001B[0m\n\u001B[1;33m    }\u001B[0m\n\u001B[1;37m     ^\u001B[0m\n\u001B[1;31mSyntaxError\u001B[0m\u001B[1;31m:\u001B[0m incomplete input\n"
     ]
    }
   ],
   "execution_count": 47,
   "source": [
    "d = {\n",
    "    \"bed\":{\n",
    "    {\n",
    "    \"ID\":\"1233\",\n",
    "    \"name\":\"hello\",\n",
    "    \"price\":1,\n",
    "    \"size\":1,\n",
    "    \"desc\":\"Hi\",\n",
    "    \"color\":\"blue\",\n",
    "    \"stock\":1,\n",
    "    \"img\":\"base64\"\n",
    "    },\n",
    "    {\n",
    "    \"name\":\"hello\",\n",
    "    \"price\":1,\n",
    "    \"size\":1,\n",
    "    \"desc\":\"Hi\",\n",
    "    \"color\":\"blue\",\n",
    "    \"stock\":1,\n",
    "    \"img\":\"base64\"\n",
    "    }\n",
    "    }\n",
    "}"
   ],
   "id": "c199155025c50c8d"
  },
  {
   "metadata": {
    "ExecuteTime": {
     "end_time": "2024-09-12T04:06:54.332466Z",
     "start_time": "2024-09-12T04:06:54.315936Z"
    }
   },
   "cell_type": "code",
   "outputs": [
    {
     "data": {
      "text/plain": [
       "np.int64(0)"
      ]
     },
     "execution_count": 4,
     "metadata": {},
     "output_type": "execute_result"
    }
   ],
   "execution_count": 4,
   "source": "datas.duplicated().sum()",
   "id": "29f0b93f5946c98b"
  },
  {
   "metadata": {
    "ExecuteTime": {
     "end_time": "2024-09-12T04:07:06.195490Z",
     "start_time": "2024-09-12T04:07:06.185364Z"
    }
   },
   "cell_type": "code",
   "outputs": [
    {
     "data": {
      "text/plain": [
       "945"
      ]
     },
     "execution_count": 5,
     "metadata": {},
     "output_type": "execute_result"
    }
   ],
   "execution_count": 5,
   "source": "datas.size",
   "id": "ff5e8920df83b713"
  },
  {
   "metadata": {
    "ExecuteTime": {
     "end_time": "2024-09-11T15:23:29.047406Z",
     "start_time": "2024-09-11T15:23:29.030745Z"
    }
   },
   "cell_type": "code",
   "outputs": [],
   "execution_count": 9,
   "source": "df = pd.read_json(\"json/link/Bed Textile/bedTextileLink.json\")",
   "id": "2c4016345d502b6b"
  },
  {
   "metadata": {
    "ExecuteTime": {
     "end_time": "2024-09-11T15:23:36.801694Z",
     "start_time": "2024-09-11T15:23:36.791268Z"
    }
   },
   "cell_type": "code",
   "outputs": [],
   "execution_count": 10,
   "source": "df.drop_duplicates(inplace=True)",
   "id": "239f41f80684c997"
  },
  {
   "metadata": {
    "ExecuteTime": {
     "end_time": "2024-09-11T15:23:44.416143Z",
     "start_time": "2024-09-11T15:23:44.407253Z"
    }
   },
   "cell_type": "code",
   "outputs": [
    {
     "data": {
      "text/plain": [
       "817"
      ]
     },
     "execution_count": 11,
     "metadata": {},
     "output_type": "execute_result"
    }
   ],
   "execution_count": 11,
   "source": "df.size",
   "id": "1e3898b15597f4ae"
  },
  {
   "metadata": {
    "ExecuteTime": {
     "end_time": "2024-09-11T15:23:46.874053Z",
     "start_time": "2024-09-11T15:23:46.867913Z"
    }
   },
   "cell_type": "code",
   "outputs": [],
   "execution_count": 12,
   "source": "df.columns = ['link']",
   "id": "823d91dacb557c6b"
  },
  {
   "metadata": {
    "ExecuteTime": {
     "end_time": "2024-09-11T15:29:21.452555Z",
     "start_time": "2024-09-11T15:29:21.439055Z"
    }
   },
   "cell_type": "code",
   "outputs": [],
   "execution_count": 24,
   "source": [
    "df.reset_index(inplace=True, drop=True)\n",
    "df = df.drop(columns=['level_0'])"
   ],
   "id": "63f074ebc99b0fc1"
  },
  {
   "metadata": {
    "ExecuteTime": {
     "end_time": "2024-09-11T15:29:42.217907Z",
     "start_time": "2024-09-11T15:29:42.200056Z"
    }
   },
   "cell_type": "code",
   "outputs": [],
   "execution_count": 26,
   "source": [
    "\n",
    "df.to_json('json/link/Bed Textile/dropDupBedTextileLink.json', orient='columns', force_ascii=False, indent=4 )"
   ],
   "id": "c4f659b958651037"
  },
  {
   "metadata": {
    "ExecuteTime": {
     "end_time": "2024-09-11T15:25:18.306256Z",
     "start_time": "2024-09-11T15:25:18.285994Z"
    }
   },
   "cell_type": "code",
   "outputs": [
    {
     "data": {
      "text/plain": [
       "817"
      ]
     },
     "execution_count": 14,
     "metadata": {},
     "output_type": "execute_result"
    }
   ],
   "execution_count": 14,
   "source": "df.size",
   "id": "4308918c02ceb8ec"
  },
  {
   "metadata": {
    "ExecuteTime": {
     "end_time": "2024-09-11T15:30:52.880361Z",
     "start_time": "2024-09-11T15:30:52.852138Z"
    }
   },
   "cell_type": "code",
   "outputs": [],
   "execution_count": 28,
   "source": "df = pd.read_json(\"json/link/Bed Textile/dropDupBedTextileLink.json\")",
   "id": "8e741b6fb6a77c2b"
  },
  {
   "metadata": {
    "ExecuteTime": {
     "end_time": "2024-09-11T15:31:40.662762Z",
     "start_time": "2024-09-11T15:31:40.642515Z"
    }
   },
   "cell_type": "code",
   "outputs": [
    {
     "data": {
      "text/plain": [
       "str"
      ]
     },
     "execution_count": 30,
     "metadata": {},
     "output_type": "execute_result"
    }
   ],
   "execution_count": 30,
   "source": "",
   "id": "ce1df7df983a125a"
  },
  {
   "metadata": {},
   "cell_type": "code",
   "outputs": [],
   "execution_count": null,
   "source": "",
   "id": "1501ec45afb54927"
  }
 ],
 "metadata": {
  "kernelspec": {
   "display_name": "Python 3",
   "language": "python",
   "name": "python3"
  },
  "language_info": {
   "codemirror_mode": {
    "name": "ipython",
    "version": 2
   },
   "file_extension": ".py",
   "mimetype": "text/x-python",
   "name": "python",
   "nbconvert_exporter": "python",
   "pygments_lexer": "ipython2",
   "version": "2.7.6"
  }
 },
 "nbformat": 4,
 "nbformat_minor": 5
}
