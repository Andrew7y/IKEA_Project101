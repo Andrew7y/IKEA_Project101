{
 "cells": [
  {
   "cell_type": "code",
   "id": "initial_id",
   "metadata": {
    "collapsed": true,
    "ExecuteTime": {
     "end_time": "2024-09-14T16:26:09.508513Z",
     "start_time": "2024-09-14T16:26:09.468278Z"
    }
   },
   "source": [
    "from os import times\n",
    "import time\n",
    "from selenium import webdriver\n",
    "from selenium.webdriver.common.by import By\n",
    "from selenium.webdriver.chrome.service import Service\n",
    "from selenium.webdriver.chrome.options import Options\n",
    "from selenium.webdriver.common.action_chains import ActionChains\n",
    "from selenium.webdriver.support.ui import WebDriverWait\n",
    "from setuptools.command.install import install\n",
    "from selenium.webdriver.support import expected_conditions as EC\n",
    "from trio import sleep\n",
    "import requests\n",
    "import base64\n"
   ],
   "outputs": [],
   "execution_count": 203
  },
  {
   "metadata": {
    "ExecuteTime": {
     "end_time": "2024-09-14T16:26:12.131942Z",
     "start_time": "2024-09-14T16:26:12.125128Z"
    }
   },
   "cell_type": "code",
   "source": [
    "def openDriver():\n",
    "    chrome_options = Options()\n",
    "    chrome_options.add_argument(\"--headless\")\n",
    "    chrome_options.add_argument(\"--incognito\")\n",
    "    chrome_options.add_argument(\"--no-sandbox\")\n",
    "    chrome_options.add_argument(\"--disable-dev-shm-usage\")\n",
    "    DRIVER_PATH = \"chromedriver.exe\"\n",
    "    return webdriver.Chrome(options=chrome_options, service=Service(DRIVER_PATH))\n"
   ],
   "id": "4260dc7b2ea54cc",
   "outputs": [],
   "execution_count": 204
  },
  {
   "metadata": {
    "ExecuteTime": {
     "end_time": "2024-09-14T16:26:14.566121Z",
     "start_time": "2024-09-14T16:26:14.556460Z"
    }
   },
   "cell_type": "code",
   "source": [
    "def getLink(uri):\n",
    "    driver = openDriver()\n",
    "    driver.get(uri)\n",
    "    time.sleep(1)\n",
    "    \n",
    "    links = []\n",
    "    parent = driver.find_elements(By.CLASS_NAME, \"plp-fragment-wrapper\")\n",
    "    for index in parent:\n",
    "        root = ((index.find_element(By.CLASS_NAME, \"plp-mastercard \").\n",
    "                 find_element(By.TAG_NAME, \"a\")).\n",
    "                get_attribute(\"href\"))\n",
    "        links.append(root)\n",
    "        \n",
    "    driver.quit()\n",
    "    return links\n"
   ],
   "id": "6d929bbe78645831",
   "outputs": [],
   "execution_count": 205
  },
  {
   "metadata": {
    "ExecuteTime": {
     "end_time": "2024-09-14T16:26:18.658576Z",
     "start_time": "2024-09-14T16:26:18.646932Z"
    }
   },
   "cell_type": "code",
   "source": [
    "import json\n",
    "import os\n",
    "\n",
    "def saveDataToJSON(directory, filename, data):\n",
    "    os.makedirs(\"json/link/\" + directory, exist_ok=True)\n",
    "    try:\n",
    "        with open(f'json/link/{directory}/{filename}.json', 'r', encoding='utf-8') as FILE:\n",
    "            existingData = json.load(FILE)\n",
    "            \n",
    "    except FileNotFoundError:\n",
    "        existingData = []\n",
    "    \n",
    "    existingData.extend(data)\n",
    "    with open(f'json/link/{directory}/{filename}.json', 'w', encoding='utf-8') as FILE:\n",
    "        json.dump(existingData, FILE, ensure_ascii=False, indent=4)\n",
    "        "
   ],
   "id": "54b6161002a43a4e",
   "outputs": [],
   "execution_count": 206
  },
  {
   "metadata": {},
   "cell_type": "code",
   "source": [
    "# for i in range(12,14):\n",
    "#     url = {\n",
    "#         \"furniture sets\":\n",
    "#                f\"https://www.ikea.com/th/th/cat/furniture-sets-55036/?page={i}\"\n",
    "#     }\n",
    "#     LinkList = getLink(url.get('furniture sets'))\n",
    "#     saveDataToJSON(\"furniture sets\",\"FurnitureSetsLink\",LinkList)\n",
    "#     print(\"page = \",i)\n",
    "#     "
   ],
   "id": "ac7fef9c67edfbfe",
   "outputs": [],
   "execution_count": null
  },
  {
   "metadata": {
    "ExecuteTime": {
     "end_time": "2024-09-14T16:26:23.463922Z",
     "start_time": "2024-09-14T16:26:23.457408Z"
    }
   },
   "cell_type": "code",
   "source": [
    "def getLinkProduct(n, nameCat, urlCat):\n",
    "    for i in range(1, n):\n",
    "        uri = {\n",
    "            nameCat:\n",
    "                f\"{urlCat}?page={i}\"\n",
    "        }\n",
    "        linkList = getLink(uri.get(nameCat))\n",
    "        saveDataToJSON(nameCat, f\"{nameCat}Link\", linkList)\n",
    "        print(\"page = \", i)"
   ],
   "id": "2a7726660d1a2dd2",
   "outputs": [],
   "execution_count": 207
  },
  {
   "metadata": {
    "ExecuteTime": {
     "end_time": "2024-09-14T16:26:28.656298Z",
     "start_time": "2024-09-14T16:26:28.643557Z"
    }
   },
   "cell_type": "code",
   "source": [
    "def getDetailProduct(urlCat):\n",
    "    driver = openDriver()\n",
    "    driver.get(urlCat)\n",
    "    \n",
    "    time.sleep(1)\n",
    "    allDetail = driver.find_element(By.XPATH, '//div[@class=\"js-price-package pip-price-package\"]')\n",
    "    brandName = allDetail.text.split(\"\\n\")[0]\n",
    "    detail = allDetail.text.split(\"\\n\")[1].split(\", \")\n",
    "    productName = detail[0]\n",
    "    try:\n",
    "        color = detail[1]\n",
    "    except:\n",
    "        color = None\n",
    "    try:\n",
    "        size = detail[2]\n",
    "    except:\n",
    "        size = None\n",
    "    price = allDetail.text.split(\"\\n\")[2][:-3]\n",
    "    \n",
    "    driver.quit()\n",
    "    return brandName, productName,color, size, price"
   ],
   "id": "be969c8e0d2d89f",
   "outputs": [],
   "execution_count": 208
  },
  {
   "metadata": {},
   "cell_type": "code",
   "source": [
    "brandName, productName,color, size, price = getDetailProduct(\"https://www.ikea.com/th/th/p/kallax-shelving-unit-white-20351884/\")\n",
    "print(\"BrandName :\",brandName)\n",
    "print(\"ProductName :\",productName)\n",
    "print(\"Color:\",color)\n",
    "print(\"Size:\",size)\n",
    "print(\"Price:\",price)\n"
   ],
   "id": "6c437e04e2050565",
   "outputs": [],
   "execution_count": null
  },
  {
   "metadata": {},
   "cell_type": "markdown",
   "source": "-----------------------------------------------------------------------------------------",
   "id": "d24528b3fec8983"
  },
  {
   "metadata": {},
   "cell_type": "markdown",
   "source": "###กดปุ่ม เพื่อรับข้อมูล",
   "id": "2c5eba16386252c3"
  },
  {
   "metadata": {
    "ExecuteTime": {
     "end_time": "2024-09-14T16:31:23.016916Z",
     "start_time": "2024-09-14T16:31:23.006700Z"
    }
   },
   "cell_type": "code",
   "source": [
    "def getDescFromProduct(uri):\n",
    "    browser = openDriver()\n",
    "    browser.get(uri)\n",
    "    try:\n",
    "        button = browser.find_element(By.CLASS_NAME, \"pip-list-view-item__action\")\n",
    "        browser.execute_script(\"arguments[0].click();\", button)\n",
    "        time.sleep(1)\n",
    "        paragraphs = browser.find_elements(By.CLASS_NAME, 'pip-product-details__paragraph')\n",
    "        codeProduct = (browser.find_element(By.CLASS_NAME, 'pip-product-identifier__value').\n",
    "                       get_attribute(\"innerText\"))\n",
    "        \n",
    "        stringDesc = \"\"\n",
    "        for paragraph in paragraphs:\n",
    "            stringDesc += paragraph.get_attribute(\"innerText\")+\"\\n\\n\"\n",
    "\n",
    "        browser.quit()\n",
    "        return stringDesc , codeProduct\n",
    "        \n",
    "    except Exception as e:\n",
    "        print(f\"เกิดข้อผิดพลาด: {e}\")\n",
    "        browser.quit()"
   ],
   "id": "21eb1448d97af929",
   "outputs": [],
   "execution_count": 217
  },
  {
   "metadata": {},
   "cell_type": "markdown",
   "source": "------------------------",
   "id": "5b5d32590110ec77"
  },
  {
   "metadata": {
    "ExecuteTime": {
     "end_time": "2024-09-14T16:26:42.489370Z",
     "start_time": "2024-09-14T16:26:42.481471Z"
    }
   },
   "cell_type": "code",
   "source": [
    "# Download Image for Product\n",
    "def saveImage(uri, dirName, fileName):\n",
    "    response = requests.get(uri)\n",
    "    \n",
    "    if response.status_code == 200:\n",
    "        os.makedirs(\"image/\"+dirName, exist_ok=True)\n",
    "        with open(f\"image/{dirName}/{fileName}_image.jpg\", \"wb\") as file:\n",
    "            file.write(response.content)\n",
    "    else:\n",
    "        print(\"เกิดข้อผิดพลาดในการดาวน์โหลดภาพ:\", response.status_code)\n"
   ],
   "id": "8f767d1b622552df",
   "outputs": [],
   "execution_count": 210
  },
  {
   "metadata": {
    "ExecuteTime": {
     "end_time": "2024-09-14T16:26:45.537913Z",
     "start_time": "2024-09-14T16:26:45.528766Z"
    }
   },
   "cell_type": "code",
   "source": [
    "def kernelImage(dirName, fileName):\n",
    "    with open(f\"image/{dirName}/{fileName}_image.jpg\", \"rb\") as png_file:\n",
    "        # อ่านไฟล์ PNG\n",
    "        png_data = png_file.read()\n",
    "        # แปลงข้อมูลไฟล์ PNG เป็น Base64\n",
    "        base64_encoded_data = base64.b64encode(png_data)\n",
    "        # แปลง Base64 เป็น string เพื่อใช้งาน\n",
    "        base64_string = base64_encoded_data.decode('utf-8')\n",
    "        \n",
    "    return base64_string\n",
    "    \n",
    "    "
   ],
   "id": "4dad42363b9414a0",
   "outputs": [],
   "execution_count": 211
  },
  {
   "metadata": {
    "ExecuteTime": {
     "end_time": "2024-09-14T16:27:05.906588Z",
     "start_time": "2024-09-14T16:27:05.899316Z"
    }
   },
   "cell_type": "code",
   "source": [
    "def getImage(uri, dirName, fileName):\n",
    "    driver = openDriver()\n",
    "    driver.get(uri)\n",
    "    findElement = driver.find_element(By.XPATH, \"//div[@class='pip-zoom-image']\")\n",
    "    img_element = findElement.find_element(By.TAG_NAME, \"img\")\n",
    "    srcset = img_element.get_attribute(\"srcset\")\n",
    "    \n",
    "    first_link = srcset.split(\",\")[0].strip().split(\" \")[0]\n",
    "    \n",
    "    driver.quit()\n",
    "    saveImage(first_link, dirName, fileName)\n",
    "    return kernelImage(dirName, fileName)\n",
    "    "
   ],
   "id": "661ea2d33e7f5903",
   "outputs": [],
   "execution_count": 212
  },
  {
   "metadata": {},
   "cell_type": "code",
   "source": "",
   "id": "dd8eb77da22b0c85",
   "outputs": [],
   "execution_count": null
  },
  {
   "metadata": {
    "ExecuteTime": {
     "end_time": "2024-09-14T16:27:08.664540Z",
     "start_time": "2024-09-14T16:27:08.655694Z"
    }
   },
   "cell_type": "code",
   "source": "import pandas as pd",
   "id": "33537ff61eeef977",
   "outputs": [],
   "execution_count": 213
  },
  {
   "metadata": {
    "ExecuteTime": {
     "end_time": "2024-09-14T16:27:11.036120Z",
     "start_time": "2024-09-14T16:27:11.029931Z"
    }
   },
   "cell_type": "code",
   "source": [
    "def readJson(pathname, filename):\n",
    "    data = pd.read_json(\"json/link/\"+pathname+\"/\"+filename)\n",
    "    return data"
   ],
   "id": "478186f540639a62",
   "outputs": [],
   "execution_count": 214
  },
  {
   "metadata": {
    "ExecuteTime": {
     "end_time": "2024-09-14T16:28:00.419351Z",
     "start_time": "2024-09-14T16:28:00.409265Z"
    }
   },
   "cell_type": "code",
   "source": [
    "def saveProductDataToJson(dirName, fileName):\n",
    "    links = readJson(dirName, fileName)\n",
    "    datas = []\n",
    "    try:\n",
    "        for i in links[0]:\n",
    "            brandName, productName,color, size, price = getDetailProduct(i)\n",
    "            stringDesc , codeProduct = getDescFromProduct(i)\n",
    "            imgBase64 = getImage(i, dirName, codeProduct)\n",
    "    \n",
    "            datas.append({\n",
    "                \"Code\":codeProduct,\n",
    "                \"brandName\":brandName,\n",
    "                \"productName\":productName,\n",
    "                \"color\":color,\n",
    "                \"size\":size,\n",
    "                \"price\":price,\n",
    "                \"imgBase64\":imgBase64,\n",
    "                \"desc\":stringDesc\n",
    "            })\n",
    "            \n",
    "        datas = {dirName:datas}\n",
    "        os.makedirs(\"json/product/\" + dirName, exist_ok=True)\n",
    "        try:\n",
    "            with open(f'json/product/{dirName}/{dirName}_datas.json', 'w', encoding='utf-8') as FILE:\n",
    "                json.dump(datas, FILE, ensure_ascii=False, indent=4)\n",
    "        except FileNotFoundError:\n",
    "            print(\" Can not save data\")\n",
    "            \n",
    "    except Exception as e:\n",
    "        print(e)"
   ],
   "id": "8444468fa5676cc9",
   "outputs": [],
   "execution_count": 215
  },
  {
   "metadata": {
    "ExecuteTime": {
     "end_time": "2024-09-14T16:18:27.556509Z",
     "start_time": "2024-09-14T16:18:27.552253Z"
    }
   },
   "cell_type": "code",
   "source": [
    "# n = 0\n",
    "# datas = []"
   ],
   "id": "ca9e71670c45dd12",
   "outputs": [],
   "execution_count": 199
  },
  {
   "metadata": {
    "jupyter": {
     "is_executing": true
    },
    "ExecuteTime": {
     "start_time": "2024-09-14T16:31:30.976054Z"
    }
   },
   "cell_type": "code",
   "source": "saveProductDataToJson(\"baskets\", \"basketsLink.json\")",
   "id": "889129d2d42bd430",
   "outputs": [],
   "execution_count": null
  },
  {
   "metadata": {},
   "cell_type": "code",
   "source": [
    "d = {\n",
    "    \"bed\":{\n",
    "    {\n",
    "    \"ID\":\"1233\",\n",
    "    \"name\":\"hello\",\n",
    "    \"price\":1,\n",
    "    \"size\":1,\n",
    "    \"desc\":\"Hi\",\n",
    "    \"color\":\"blue\",\n",
    "    \"stock\":1,\n",
    "    \"img\":\"base64\"\n",
    "    },\n",
    "    {\n",
    "    \"name\":\"hello\",\n",
    "    \"price\":1,\n",
    "    \"size\":1,\n",
    "    \"desc\":\"Hi\",\n",
    "    \"color\":\"blue\",\n",
    "    \"stock\":1,\n",
    "    \"img\":\"base64\"\n",
    "    }\n",
    "    }\n",
    "}"
   ],
   "id": "c199155025c50c8d",
   "outputs": [],
   "execution_count": null
  }
 ],
 "metadata": {
  "kernelspec": {
   "display_name": "Python 3",
   "language": "python",
   "name": "python3"
  },
  "language_info": {
   "codemirror_mode": {
    "name": "ipython",
    "version": 2
   },
   "file_extension": ".py",
   "mimetype": "text/x-python",
   "name": "python",
   "nbconvert_exporter": "python",
   "pygments_lexer": "ipython2",
   "version": "2.7.6"
  }
 },
 "nbformat": 4,
 "nbformat_minor": 5
}
